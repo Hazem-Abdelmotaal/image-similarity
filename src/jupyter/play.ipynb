{
 "cells": [
  {
   "cell_type": "code",
   "execution_count": 130,
   "metadata": {},
   "outputs": [],
   "source": [
    "import sklearn\n",
    "import pandas as pd\n",
    "import matplotlib as mpl\n",
    "import matplotlib.pyplot as plt\n",
    "import seaborn as sns\n",
    "import numpy as np\n",
    "import os\n",
    "from keras.preprocessing.image import load_img, img_to_array, array_to_img\n",
    "from keras.models import Model\n",
    "from keras.layers import Input, Flatten, Dense, Dropout, Lambda, Reshape\n",
    "from keras.optimizers import RMSprop\n",
    "from keras import backend as K\n",
    "from keras.applications.vgg16 import VGG16\n",
    "from keras.applications.vgg16 import preprocess_input\n",
    "\n",
    "%matplotlib inline\n",
    "\n",
    "TABLE_FILE = \"../../data/image_pairs_filtered.csv\"\n",
    "IMAGES_DIR = \"../../data/ssd-images/\""
   ]
  },
  {
   "cell_type": "code",
   "execution_count": 2,
   "metadata": {},
   "outputs": [
    {
     "name": "stdout",
     "output_type": "stream",
     "text": [
      "(88310, 6)\n",
      "Index(['id_0', 'img_0', 'id_1', 'img_1', 'match', 'job'], dtype='object')\n",
      "Valid data:\n",
      "(51574, 7)\n",
      "Index(['id_0', 'img_0', 'id_1', 'img_1', 'match', 'job', 'is_valid'], dtype='object')\n"
     ]
    }
   ],
   "source": [
    "def is_valid_pair(row):\n",
    "    return os.path.exists(IMAGES_DIR + row['id_0'] + '.jpg') and os.path.exists(IMAGES_DIR + row['id_1'] + '.jpg')\n",
    "\n",
    "csv_data = pd.read_csv(TABLE_FILE, sep=';')\n",
    "\n",
    "print(csv_data.shape)\n",
    "print(csv_data.columns)\n",
    "\n",
    "if not os.path.exists('./pair_data.pkl'):\n",
    "    csv_data['is_valid'] = csv_data.apply(is_valid_pair, axis=1)\n",
    "    valid_data = csv_data[csv_data['is_valid'] == True].dropna()\n",
    "    valid_data.to_pickle('./pair_data.pkl')\n",
    "    csv_data = valid_data\n",
    "else:\n",
    "    csv_data = pd.read_pickle('./pair_data.pkl')\n",
    "\n",
    "print('Valid data:')\n",
    "print(csv_data.shape)\n",
    "print(csv_data.columns)"
   ]
  },
  {
   "cell_type": "code",
   "execution_count": 60,
   "metadata": {},
   "outputs": [
    {
     "name": "stdout",
     "output_type": "stream",
     "text": [
      "(51574, 7)\n",
      "Index(['id_0', 'img_0', 'id_1', 'img_1', 'match', 'job', 'is_valid'], dtype='object')\n",
      "49469 2105\n",
      "0.9591848605886687\n"
     ]
    },
    {
     "data": {
      "text/plain": [
       "'8cafa4c3b2f2b9ad4482690328f19ace6d4de3a0'"
      ]
     },
     "execution_count": 60,
     "metadata": {},
     "output_type": "execute_result"
    }
   ],
   "source": [
    "print(csv_data.shape)\n",
    "print(csv_data.columns)\n",
    "len_true = len(csv_data[csv_data['match'] == True])\n",
    "len_false = len(csv_data[csv_data['match'] == False])\n",
    "print( len_true, len_false)\n",
    "print( len_true / (len_true + len_false) )\n",
    "csv_data.loc[1]['id_0']"
   ]
  },
  {
   "cell_type": "code",
   "execution_count": 73,
   "metadata": {},
   "outputs": [],
   "source": [
    "def data_batch(dframe, batch_size):\n",
    "#     return dframe[dframe['match'] == True][:batch_size]\n",
    "    true_sample = dframe[dframe['match'] == True].sample(n=batch_size // 2)\n",
    "    \n",
    "    false_dframe = dframe[dframe['match'] == False]\n",
    "    false_sample = pd.DataFrame()\n",
    "    for i,true_row in true_sample.iterrows():\n",
    "        false_match = false_dframe[false_dframe['id_0'] == true_row['id_0']]\n",
    "        if len(false_match) > 0:\n",
    "            new_row = false_match.head(1)\n",
    "            false_sample = false_sample.append(new_row)\n",
    "        else:\n",
    "            rand_row = false_dframe.sample()\n",
    "            new_row = true_row.copy()\n",
    "            new_row['match'] = False\n",
    "            new_row['id_1'] = rand_row['id_1'].values[0]\n",
    "            new_row['img_1'] = rand_row['img_1'].values[0]\n",
    "            false_sample = pd.concat([false_sample, pd.DataFrame([new_row])])\n",
    "\n",
    "    batch = pd.concat([true_sample, false_sample]).reset_index()\n",
    "    return batch.sort_values('id_0')\n",
    "\n",
    "def data_batch_flow(dframe, batch_size):\n",
    "    while True:\n",
    "        yield data_batch(dframe, batch_size)"
   ]
  },
  {
   "cell_type": "code",
   "execution_count": 74,
   "metadata": {
    "collapsed": true
   },
   "outputs": [],
   "source": [
    "def id_to_img(img_id):\n",
    "    try:\n",
    "        path = f\"{IMAGES_DIR}{img_id}.jpg\"\n",
    "        return img_to_array(load_img(path))\n",
    "    except Exception as e:\n",
    "        return None\n",
    "\n",
    "def row_to_img_pair(row):\n",
    "    img_0 = id_to_img(row['id_0'])\n",
    "    img_1 = id_to_img(row['id_1'])\n",
    "    if img_0 is None or img_1 is None:\n",
    "        return None, None\n",
    "    target = 1 if row['match'] == True else 0\n",
    "    \n",
    "    return [img_0 / 255, img_1 / 255], target\n",
    "\n",
    "def batch_to_img_pairs(dframe):\n",
    "    pairs = []\n",
    "    targets = []\n",
    "    for index, row in dframe.iterrows():\n",
    "        pair, target = row_to_img_pair(row)\n",
    "        if pair is not None:\n",
    "            pairs.append(pair)\n",
    "            targets.append(target)\n",
    "    \n",
    "    return np.array(pairs), np.array(targets)"
   ]
  },
  {
   "cell_type": "code",
   "execution_count": 75,
   "metadata": {},
   "outputs": [
    {
     "data": {
      "text/html": [
       "<div>\n",
       "<style>\n",
       "    .dataframe thead tr:only-child th {\n",
       "        text-align: right;\n",
       "    }\n",
       "\n",
       "    .dataframe thead th {\n",
       "        text-align: left;\n",
       "    }\n",
       "\n",
       "    .dataframe tbody tr th {\n",
       "        vertical-align: top;\n",
       "    }\n",
       "</style>\n",
       "<table border=\"1\" class=\"dataframe\">\n",
       "  <thead>\n",
       "    <tr style=\"text-align: right;\">\n",
       "      <th></th>\n",
       "      <th>index</th>\n",
       "      <th>id_0</th>\n",
       "      <th>img_0</th>\n",
       "      <th>id_1</th>\n",
       "      <th>img_1</th>\n",
       "      <th>match</th>\n",
       "      <th>job</th>\n",
       "      <th>is_valid</th>\n",
       "    </tr>\n",
       "  </thead>\n",
       "  <tbody>\n",
       "    <tr>\n",
       "      <th>1</th>\n",
       "      <td>11258</td>\n",
       "      <td>c07abe4e34a2dc61bc9fe7a6e627c620b0529d3f</td>\n",
       "      <td>http://picscdn.redblue.de/doi/pixelboxx-mss-72...</td>\n",
       "      <td>489f240b8389534fa7da478b8e7eb0d709cf74ab</td>\n",
       "      <td>https://s.s-bol.com/imgbase0/imagebase3/large/...</td>\n",
       "      <td>True</td>\n",
       "      <td>mediamarktbe.all_data</td>\n",
       "      <td>True</td>\n",
       "    </tr>\n",
       "    <tr>\n",
       "      <th>3</th>\n",
       "      <td>11258</td>\n",
       "      <td>c07abe4e34a2dc61bc9fe7a6e627c620b0529d3f</td>\n",
       "      <td>http://picscdn.redblue.de/doi/pixelboxx-mss-72...</td>\n",
       "      <td>de9069b06ee2cd0fd0fff2893039b69c42f60515</td>\n",
       "      <td>//s.s-bol.com/imgbase0/imagebase3/large/FC/8/1...</td>\n",
       "      <td>False</td>\n",
       "      <td>mediamarktbe.all_data</td>\n",
       "      <td>True</td>\n",
       "    </tr>\n",
       "    <tr>\n",
       "      <th>0</th>\n",
       "      <td>6019</td>\n",
       "      <td>d828bc94bd46387458a835809a31eacb31181f20</td>\n",
       "      <td>http://picscdn.redblue.de/doi/pixelboxx-mss-58...</td>\n",
       "      <td>3732f58f96c167d992364d09692e323b3fecc2ee</td>\n",
       "      <td>https://images-na.ssl-images-amazon.com/images...</td>\n",
       "      <td>True</td>\n",
       "      <td>mediamarktbe.all_data</td>\n",
       "      <td>True</td>\n",
       "    </tr>\n",
       "    <tr>\n",
       "      <th>2</th>\n",
       "      <td>6019</td>\n",
       "      <td>d828bc94bd46387458a835809a31eacb31181f20</td>\n",
       "      <td>http://picscdn.redblue.de/doi/pixelboxx-mss-58...</td>\n",
       "      <td>f0d3c785169b59f7b7ff6f3c6fe82c78d26f26c2</td>\n",
       "      <td>https://image.coolblue.io/products/667061?widt...</td>\n",
       "      <td>False</td>\n",
       "      <td>mediamarktbe.all_data</td>\n",
       "      <td>True</td>\n",
       "    </tr>\n",
       "  </tbody>\n",
       "</table>\n",
       "</div>"
      ],
      "text/plain": [
       "   index                                      id_0  \\\n",
       "1  11258  c07abe4e34a2dc61bc9fe7a6e627c620b0529d3f   \n",
       "3  11258  c07abe4e34a2dc61bc9fe7a6e627c620b0529d3f   \n",
       "0   6019  d828bc94bd46387458a835809a31eacb31181f20   \n",
       "2   6019  d828bc94bd46387458a835809a31eacb31181f20   \n",
       "\n",
       "                                               img_0  \\\n",
       "1  http://picscdn.redblue.de/doi/pixelboxx-mss-72...   \n",
       "3  http://picscdn.redblue.de/doi/pixelboxx-mss-72...   \n",
       "0  http://picscdn.redblue.de/doi/pixelboxx-mss-58...   \n",
       "2  http://picscdn.redblue.de/doi/pixelboxx-mss-58...   \n",
       "\n",
       "                                       id_1  \\\n",
       "1  489f240b8389534fa7da478b8e7eb0d709cf74ab   \n",
       "3  de9069b06ee2cd0fd0fff2893039b69c42f60515   \n",
       "0  3732f58f96c167d992364d09692e323b3fecc2ee   \n",
       "2  f0d3c785169b59f7b7ff6f3c6fe82c78d26f26c2   \n",
       "\n",
       "                                               img_1  match  \\\n",
       "1  https://s.s-bol.com/imgbase0/imagebase3/large/...   True   \n",
       "3  //s.s-bol.com/imgbase0/imagebase3/large/FC/8/1...  False   \n",
       "0  https://images-na.ssl-images-amazon.com/images...   True   \n",
       "2  https://image.coolblue.io/products/667061?widt...  False   \n",
       "\n",
       "                     job  is_valid  \n",
       "1  mediamarktbe.all_data      True  \n",
       "3  mediamarktbe.all_data      True  \n",
       "0  mediamarktbe.all_data      True  \n",
       "2  mediamarktbe.all_data      True  "
      ]
     },
     "execution_count": 75,
     "metadata": {},
     "output_type": "execute_result"
    }
   ],
   "source": [
    "next(data_batch_flow(csv_data, 4))"
   ]
  },
  {
   "cell_type": "code",
   "execution_count": 76,
   "metadata": {
    "collapsed": true
   },
   "outputs": [],
   "source": [
    "pair_flow = map(batch_to_img_pairs, data_batch_flow(csv_data, 32))"
   ]
  },
  {
   "cell_type": "code",
   "execution_count": 77,
   "metadata": {},
   "outputs": [
    {
     "data": {
      "text/plain": [
       "array([ 1.,  1.,  1.], dtype=float32)"
      ]
     },
     "execution_count": 77,
     "metadata": {},
     "output_type": "execute_result"
    }
   ],
   "source": [
    "pairs, targets = next(pair_flow)\n",
    "pair = pairs[0]\n",
    "img_0 = pair[0]\n",
    "img_1 = pair[1]\n",
    "img_0[0][0] # pixel"
   ]
  },
  {
   "cell_type": "code",
   "execution_count": 78,
   "metadata": {},
   "outputs": [
    {
     "data": {
      "text/plain": [
       "<matplotlib.image.AxesImage at 0x7fcb247a1630>"
      ]
     },
     "execution_count": 78,
     "metadata": {},
     "output_type": "execute_result"
    },
    {
     "data": {
      "image/png": "[encoded data removed]",
      "text/plain": [
       "<matplotlib.figure.Figure at 0x7fcb2471f6a0>"
      ]
     },
     "metadata": {},
     "output_type": "display_data"
    }
   ],
   "source": [
    "plt.imshow(img_0)"
   ]
  },
  {
   "cell_type": "code",
   "execution_count": 79,
   "metadata": {},
   "outputs": [
    {
     "data": {
      "text/plain": [
       "<matplotlib.image.AxesImage at 0x7fcb24772438>"
      ]
     },
     "execution_count": 79,
     "metadata": {},
     "output_type": "execute_result"
    },
    {
     "data": {
      "image/png": "[encoded data removed]",
      "text/plain": [
       "<matplotlib.figure.Figure at 0x7fcb2931c7b8>"
      ]
     },
     "metadata": {},
     "output_type": "display_data"
    }
   ],
   "source": [
    "plt.imshow(img_1)"
   ]
  },
  {
   "cell_type": "code",
   "execution_count": 80,
   "metadata": {},
   "outputs": [
    {
     "name": "stdout",
     "output_type": "stream",
     "text": [
      "(32, 64, 64, 3)\n"
     ]
    }
   ],
   "source": [
    "pairs.shape\n",
    "print(pairs[:,1].shape)\n",
    "del pair_flow"
   ]
  },
  {
   "cell_type": "code",
   "execution_count": 141,
   "metadata": {
    "collapsed": true
   },
   "outputs": [],
   "source": [
    "def euclidean_distance(vects):\n",
    "    x, y = vects\n",
    "    return K.sqrt(K.maximum(K.sum(K.square(x - y), axis=1, keepdims=True), K.epsilon()))\n",
    "\n",
    "\n",
    "def eucl_dist_output_shape(shapes):\n",
    "    shape1, shape2 = shapes\n",
    "    return (shape1[0], 1)\n",
    "\n",
    "\n",
    "def contrastive_loss(y_true, y_pred):\n",
    "    '''Contrastive loss from Hadsell-et-al.'06\n",
    "    http://yann.lecun.com/exdb/publis/pdf/hadsell-chopra-lecun-06.pdf\n",
    "    '''\n",
    "    margin = 1\n",
    "    return K.mean(y_true * K.square(y_pred) +\n",
    "                  (1 - y_true) * K.square(K.maximum(margin - y_pred, 0)))"
   ]
  },
  {
   "cell_type": "code",
   "execution_count": 152,
   "metadata": {},
   "outputs": [
    {
     "name": "stdout",
     "output_type": "stream",
     "text": [
      "_________________________________________________________________\n",
      "Layer (type)                 Output Shape              Param #   \n",
      "=================================================================\n",
      "input_85 (InputLayer)        (None, 64, 64, 3)         0         \n",
      "_________________________________________________________________\n",
      "block1_conv1 (Conv2D)        (None, 64, 64, 64)        1792      \n",
      "_________________________________________________________________\n",
      "block1_conv2 (Conv2D)        (None, 64, 64, 64)        36928     \n",
      "_________________________________________________________________\n",
      "block1_pool (MaxPooling2D)   (None, 32, 32, 64)        0         \n",
      "_________________________________________________________________\n",
      "block2_conv1 (Conv2D)        (None, 32, 32, 128)       73856     \n",
      "_________________________________________________________________\n",
      "block2_conv2 (Conv2D)        (None, 32, 32, 128)       147584    \n",
      "_________________________________________________________________\n",
      "block2_pool (MaxPooling2D)   (None, 16, 16, 128)       0         \n",
      "_________________________________________________________________\n",
      "block3_conv1 (Conv2D)        (None, 16, 16, 256)       295168    \n",
      "_________________________________________________________________\n",
      "block3_conv2 (Conv2D)        (None, 16, 16, 256)       590080    \n",
      "_________________________________________________________________\n",
      "block3_conv3 (Conv2D)        (None, 16, 16, 256)       590080    \n",
      "_________________________________________________________________\n",
      "block3_pool (MaxPooling2D)   (None, 8, 8, 256)         0         \n",
      "_________________________________________________________________\n",
      "block4_conv1 (Conv2D)        (None, 8, 8, 512)         1180160   \n",
      "_________________________________________________________________\n",
      "block4_conv2 (Conv2D)        (None, 8, 8, 512)         2359808   \n",
      "_________________________________________________________________\n",
      "block4_conv3 (Conv2D)        (None, 8, 8, 512)         2359808   \n",
      "_________________________________________________________________\n",
      "block4_pool (MaxPooling2D)   (None, 4, 4, 512)         0         \n",
      "_________________________________________________________________\n",
      "block5_conv1 (Conv2D)        (None, 4, 4, 512)         2359808   \n",
      "_________________________________________________________________\n",
      "block5_conv2 (Conv2D)        (None, 4, 4, 512)         2359808   \n",
      "_________________________________________________________________\n",
      "block5_conv3 (Conv2D)        (None, 4, 4, 512)         2359808   \n",
      "_________________________________________________________________\n",
      "block5_pool (MaxPooling2D)   (None, 2, 2, 512)         0         \n",
      "_________________________________________________________________\n",
      "flatten (Flatten)            (None, 2048)              0         \n",
      "_________________________________________________________________\n",
      "fc1 (Dense)                  (None, 512)               1049088   \n",
      "_________________________________________________________________\n",
      "fc2 (Dense)                  (None, 512)               262656    \n",
      "=================================================================\n",
      "Total params: 16,026,432\n",
      "Trainable params: 1,311,744\n",
      "Non-trainable params: 14,714,688\n",
      "_________________________________________________________________\n",
      "[  0.           0.           0.          36.67236328  15.15068245\n",
      "  15.82263279   0.           0.           0.           0.           0.\n",
      "  14.83057976   0.           0.           0.           0.           0.\n",
      "  19.20281792   0.          16.04316139   0.           0.           0.           0.\n",
      "   0.          35.58869171   7.20625019  11.55278873  13.87866497\n",
      "  18.82880783  24.58905792   0.           0.           0.           2.482131\n",
      "   7.78864908   0.          33.24623871   0.           0.          26.56689835\n",
      "  24.94293976  12.14863491  31.47525787   8.67632675   0.           0.\n",
      "  35.7767067   35.57589722   0.           0.          13.39346027   0.           0.\n",
      "  44.53524017   6.29030466   0.           9.89637756  13.19479084\n",
      "   4.52953815  31.11400604  25.18054008   0.           0.           0.           0.\n",
      "  12.1244154    0.           1.31584072  13.69983292  35.5042572\n",
      "   3.73219275   0.           0.           0.           0.           0.           0.\n",
      "  11.63439178  16.00969696  53.0680542   10.18812943   0.           0.           0.\n",
      "   8.65389729   0.           4.90288877   0.          20.67555618   0.\n",
      "  22.41972923   0.           0.           0.          12.5577774    0.           0.\n",
      "   5.18577862   0.           0.          18.62856483  16.26211739\n",
      "  10.54105663  45.08363342   0.           0.          34.66166687\n",
      "  27.36005592  18.2275219    4.71737957   9.5552063    0.           5.79245281\n",
      "   0.           5.75857115   0.           1.76389647   0.           0.           0.\n",
      "  11.83006287   0.          23.46695328  63.28856659   3.37918854   0.\n",
      "  44.48905945   0.           0.           0.           0.           4.23685837\n",
      "   0.          13.96613979   0.           0.          27.40313148\n",
      "  14.18418121   5.68626118   0.          42.75429535   0.          61.26842499\n",
      "  34.9036026    0.          17.49907684   8.60933113  42.8846817\n",
      "  11.49654579   0.          17.04631424   0.          24.63987923\n",
      "   7.25434685   0.           0.           0.           0.           0.           0.\n",
      "  50.33859634   0.           0.           0.          30.80688286\n",
      "   0.82694435   0.           0.          42.85113525   0.           0.           0.\n",
      "  46.85474014   0.           0.           0.           0.           0.           0.\n",
      "  65.77664185   0.          10.2081213    0.           0.           0.\n",
      "  10.28460121   0.           0.          36.16989136  29.76617622\n",
      "   4.51532269   0.          23.28969574   0.           9.56362152   0.           0.\n",
      "   8.53784943   0.           0.          25.21843719   0.           0.           0.\n",
      "  16.88240433  15.54739094   0.           0.          16.78766823   0.           0.\n",
      "  28.76309013  18.72857285   0.           0.           0.           9.89343643\n",
      "   2.19865608   0.           0.           0.          23.02119446   0.           0.\n",
      "  28.87717819   0.           0.           0.           0.           0.\n",
      "  35.18758392   0.           0.           0.           9.14010048   0.\n",
      "   4.36006641  10.55773067  18.02645874   0.           0.          15.82288742\n",
      "   0.           0.           7.93000126  13.12101746   0.          43.06927109\n",
      "  26.82837296  22.0659256    0.          49.82920456   0.          22.1356163\n",
      "   0.           2.95961189   0.           0.           0.           0.\n",
      "  11.11613846   0.           0.           0.           0.           0.           0.\n",
      "   0.           5.21301222  15.09112263   0.           0.           5.08226967\n",
      "   0.          20.50919342   0.           0.           0.          30.74213791\n",
      "   0.          27.43071938   0.           0.          22.1270237    0.\n",
      "  27.27942657   4.61771297  44.40048981   0.          20.21099472   0.\n",
      "   7.69574738   2.53279209  10.34538841   0.          34.68566513\n",
      "   0.86848831   9.153965     0.          22.87508392  28.87037849\n",
      "  24.88470268   0.           2.09536743  15.02503777   8.03896809\n",
      "   6.90798283  19.03590584   3.27459669  55.49374771   0.           1.73282623\n",
      "   0.          41.48147583   8.36922836   0.          17.18784523\n",
      "   2.88733482  13.08850765   0.           0.           0.           3.63376904\n",
      "   0.           0.           0.          12.41763592  10.34467316\n",
      "  20.4540596   17.04631805   0.           7.99584866   5.93855047   0.\n",
      "  59.01104355   0.           7.00354671   3.26688695  35.74332809   0.           0.\n",
      "   0.          16.75691986   7.63857937   0.          13.37921906   0.\n",
      "   0.59179634   0.           0.           0.           0.           0.           0.\n",
      "   0.           0.          22.697052    24.51610565   0.           0.\n",
      "   7.60362244   0.           0.          34.2169342    4.62641764   0.           0.\n",
      "   1.27089024   0.           0.           0.          14.53311634   0.\n",
      "  31.01057434  21.67492485   0.           0.          32.00260162\n",
      "   7.99820328   0.           3.61108828  28.93836594   0.          22.34540939\n",
      "   0.           0.          33.74876785   0.          32.98206711   0.           0.\n",
      "  31.57095528  23.2501297   39.31840515   0.           0.           4.76926804\n",
      "   0.           0.           0.           0.          49.52113724\n",
      "  20.12600708   0.          36.57612991  21.64949989   0.82646132   0.           0.\n",
      "   0.           0.          32.76408768   0.           0.           0.           0.\n",
      "   0.          45.07403564   5.28067684   0.           0.           0.           0.\n",
      "  41.92581558   0.          15.05053234   7.8488102    0.          23.55078506\n",
      "   0.          18.12931252   0.           0.          31.84098625\n",
      "  11.53630447  20.66080093  19.80781937   6.10839081  21.46219635\n",
      "   2.38074064   0.          42.03551483   0.           0.          12.26941395\n",
      "   2.9919219   13.78552723   0.           6.09950495  18.12718201\n",
      "  28.24722862   0.          14.20633507   0.           0.           0.           0.\n",
      "  36.10409164   5.67869139   0.          11.4731245    0.          18.55657768\n",
      "   0.          27.30125809  35.04968643   0.           0.           2.30459952\n",
      "   0.          31.09726334   0.           0.          21.73835945   0.           0.\n",
      "  12.04001999  32.67662811   0.           0.           0.           0.           0.\n",
      "   0.           3.43503022   0.           0.           4.07994986   0.           0.\n",
      "   0.           0.          21.33715057  22.81523132  25.51783943\n",
      "   6.0939827    3.60595131   0.           6.63119841   0.           0.\n",
      "   0.39701939  18.02376175   6.16302538   0.          37.31797028   0.           0.\n",
      "   0.           0.           0.        ]\n",
      "(512,)\n"
     ]
    }
   ],
   "source": [
    "# def create_base_network(input_shape):\n",
    "#     '''Base network to be shared (eq. to feature extraction).\n",
    "#     '''\n",
    "#     input = Input(shape=input_shape)\n",
    "#     x = Flatten()(input)\n",
    "#     x = Dense(64, activation='relu')(x)\n",
    "#     x = Dropout(0.1)(x)\n",
    "#     x = Dense(64, activation='relu')(x)\n",
    "#     x = Dropout(0.1)(x)\n",
    "#     x = Dense(64, activation='relu')(x)\n",
    "#     return Model(input, x)\n",
    "\n",
    "# img_array to feature vector\n",
    "def extraction_network(input_shape):\n",
    "    base_model = VGG16(weights='imagenet', include_top=False, input_shape=input_shape)\n",
    "    \n",
    "    \n",
    "    x = base_model.output\n",
    "    x = Flatten(name='flatten')(x)\n",
    "    x = Dense(512, activation='relu', name='fc1')(x)\n",
    "    features = Dense(512, activation='relu', name='fc2')(x)\n",
    "    \n",
    "    for layer in base_model.layers:\n",
    "        layer.trainable = False\n",
    "    \n",
    "    model = Model(inputs=base_model.input, outputs=features)\n",
    "    model.summary()\n",
    "    return model\n",
    "# vgg16 preprocess_input\n",
    "\n",
    "def img_to_feature_vector(model, img):\n",
    "    processed_img = preprocess_input(np.expand_dims(img, axis=0))\n",
    "    return model.predict(processed_img)[0]\n",
    "\n",
    "# Test\n",
    "# vec_model = extraction_network(input_shape=(64, 64, 3))\n",
    "\n",
    "# features =img_to_feature_vector(vec_model, img_1)\n",
    "# print(features)\n",
    "# print(features.shape)"
   ]
  },
  {
   "cell_type": "code",
   "execution_count": 153,
   "metadata": {
    "scrolled": true
   },
   "outputs": [
    {
     "name": "stdout",
     "output_type": "stream",
     "text": [
      "_________________________________________________________________\n",
      "Layer (type)                 Output Shape              Param #   \n",
      "=================================================================\n",
      "input_86 (InputLayer)        (None, 64, 64, 3)         0         \n",
      "_________________________________________________________________\n",
      "block1_conv1 (Conv2D)        (None, 64, 64, 64)        1792      \n",
      "_________________________________________________________________\n",
      "block1_conv2 (Conv2D)        (None, 64, 64, 64)        36928     \n",
      "_________________________________________________________________\n",
      "block1_pool (MaxPooling2D)   (None, 32, 32, 64)        0         \n",
      "_________________________________________________________________\n",
      "block2_conv1 (Conv2D)        (None, 32, 32, 128)       73856     \n",
      "_________________________________________________________________\n",
      "block2_conv2 (Conv2D)        (None, 32, 32, 128)       147584    \n",
      "_________________________________________________________________\n",
      "block2_pool (MaxPooling2D)   (None, 16, 16, 128)       0         \n",
      "_________________________________________________________________\n",
      "block3_conv1 (Conv2D)        (None, 16, 16, 256)       295168    \n",
      "_________________________________________________________________\n",
      "block3_conv2 (Conv2D)        (None, 16, 16, 256)       590080    \n",
      "_________________________________________________________________\n",
      "block3_conv3 (Conv2D)        (None, 16, 16, 256)       590080    \n",
      "_________________________________________________________________\n",
      "block3_pool (MaxPooling2D)   (None, 8, 8, 256)         0         \n",
      "_________________________________________________________________\n",
      "block4_conv1 (Conv2D)        (None, 8, 8, 512)         1180160   \n",
      "_________________________________________________________________\n",
      "block4_conv2 (Conv2D)        (None, 8, 8, 512)         2359808   \n",
      "_________________________________________________________________\n",
      "block4_conv3 (Conv2D)        (None, 8, 8, 512)         2359808   \n",
      "_________________________________________________________________\n",
      "block4_pool (MaxPooling2D)   (None, 4, 4, 512)         0         \n",
      "_________________________________________________________________\n",
      "block5_conv1 (Conv2D)        (None, 4, 4, 512)         2359808   \n",
      "_________________________________________________________________\n",
      "block5_conv2 (Conv2D)        (None, 4, 4, 512)         2359808   \n",
      "_________________________________________________________________\n",
      "block5_conv3 (Conv2D)        (None, 4, 4, 512)         2359808   \n",
      "_________________________________________________________________\n",
      "block5_pool (MaxPooling2D)   (None, 2, 2, 512)         0         \n",
      "_________________________________________________________________\n",
      "flatten (Flatten)            (None, 2048)              0         \n",
      "_________________________________________________________________\n",
      "fc1 (Dense)                  (None, 512)               1049088   \n",
      "_________________________________________________________________\n",
      "fc2 (Dense)                  (None, 512)               262656    \n",
      "=================================================================\n",
      "Total params: 16,026,432\n",
      "Trainable params: 1,311,744\n",
      "Non-trainable params: 14,714,688\n",
      "_________________________________________________________________\n"
     ]
    }
   ],
   "source": [
    "def compute_accuracy(y_true, y_pred):\n",
    "    '''Compute classification accuracy with a fixed threshold on distances.\n",
    "    '''\n",
    "    pred = y_pred.ravel() < 0.5\n",
    "    return np.mean(pred == y_true)\n",
    "\n",
    "\n",
    "def accuracy(y_true, y_pred):\n",
    "    '''Compute classification accuracy with a fixed threshold on distances.\n",
    "    '''\n",
    "    return K.mean(K.equal(y_true, K.cast(y_pred < 0.5, y_true.dtype)))\n",
    "\n",
    "\n",
    "input_shape = (64, 64, 3)\n",
    "\n",
    "base_network = extraction_network(input_shape)\n",
    "\n",
    "input_a = Input(shape=input_shape)\n",
    "input_b = Input(shape=input_shape)\n",
    "\n",
    "processed_a = base_network(input_a)\n",
    "processed_b = base_network(input_b)\n",
    "\n",
    "distance = Lambda(euclidean_distance,\n",
    "                  output_shape=eucl_dist_output_shape)([processed_a, processed_b])\n",
    "\n",
    "model = Model([input_a, input_b], distance)"
   ]
  },
  {
   "cell_type": "code",
   "execution_count": 154,
   "metadata": {},
   "outputs": [
    {
     "data": {
      "text/plain": [
       "<tf.Tensor 'model_33/fc2/Relu:0' shape=(?, 512) dtype=float32>"
      ]
     },
     "execution_count": 154,
     "metadata": {},
     "output_type": "execute_result"
    }
   ],
   "source": [
    "processed_a"
   ]
  },
  {
   "cell_type": "code",
   "execution_count": 155,
   "metadata": {},
   "outputs": [
    {
     "name": "stdout",
     "output_type": "stream",
     "text": [
      "Epoch 1/3\n",
      "100/100 [==============================] - 576s - loss: 0.2221 - accuracy: 0.7919 - val_loss: 0.0962 - val_accuracy: 0.9125\n",
      "Epoch 2/3\n",
      "100/100 [==============================] - 681s - loss: 0.1092 - accuracy: 0.8784 - val_loss: 0.1074 - val_accuracy: 0.8875\n",
      "Epoch 3/3\n",
      "100/100 [==============================] - 638s - loss: 0.0994 - accuracy: 0.8891 - val_loss: 0.0958 - val_accuracy: 0.8969\n"
     ]
    },
    {
     "data": {
      "text/plain": [
       "<keras.callbacks.History at 0x7fca1d776320>"
      ]
     },
     "execution_count": 155,
     "metadata": {},
     "output_type": "execute_result"
    }
   ],
   "source": [
    "# train\n",
    "tr_pair_flow = map(batch_to_img_pairs, data_batch_flow(csv_data, 32))\n",
    "te_pair_flow = map(batch_to_img_pairs, data_batch_flow(csv_data, 32))\n",
    "\n",
    "tr_pair_flow_gen = map(lambda batch: ([batch[0][:,0], batch[0][:,1]], batch[1]), tr_pair_flow)\n",
    "te_pair_flow_gen = map(lambda batch: ([batch[0][:,0], batch[0][:,1]], batch[1]), te_pair_flow)\n",
    "\n",
    "\n",
    "rms = RMSprop()\n",
    "model.compile(loss=contrastive_loss, optimizer=rms, metrics=[accuracy])\n",
    "model.fit_generator(\n",
    "    tr_pair_flow_gen,\n",
    "    steps_per_epoch=100,\n",
    "    epochs=3,\n",
    "    validation_data=te_pair_flow_gen,\n",
    "    validation_steps=10,\n",
    ")"
   ]
  },
  {
   "cell_type": "code",
   "execution_count": 156,
   "metadata": {},
   "outputs": [
    {
     "name": "stdout",
     "output_type": "stream",
     "text": [
      "* Accuracy on training set: 93.75%\n",
      "* Accuracy on test set: 93.75%\n"
     ]
    }
   ],
   "source": [
    "# compute final accuracy on training and test sets\n",
    "tr_batch, tr_y = next(tr_pair_flow_gen)\n",
    "te_batch, te_y = next(te_pair_flow_gen)\n",
    "\n",
    "y_pred = model.predict_on_batch(tr_batch)\n",
    "tr_acc = compute_accuracy(tr_y, y_pred)\n",
    "y_pred = model.predict(te_batch)\n",
    "te_acc = compute_accuracy(te_y, y_pred)\n",
    "\n",
    "print('* Accuracy on training set: %0.2f%%' % (100 * tr_acc))\n",
    "print('* Accuracy on test set: %0.2f%%' % (100 * te_acc))"
   ]
  },
  {
   "cell_type": "code",
   "execution_count": 235,
   "metadata": {},
   "outputs": [
    {
     "data": {
      "text/plain": [
       "<matplotlib.image.AxesImage at 0x7fca1c304080>"
      ]
     },
     "execution_count": 235,
     "metadata": {},
     "output_type": "execute_result"
    },
    {
     "data": {
      "image/png": "[encoded data removed]",
      "text/plain": [
       "<matplotlib.figure.Figure at 0x7fca1c6b2fd0>"
      ]
     },
     "metadata": {},
     "output_type": "display_data"
    }
   ],
   "source": [
    "# 0a9a6d9e4f345d73b96bc9ab3f980f1448d3dec9 ? 0aa0bd14a908076356dc343f4c31e352b852bed5 False\n",
    "# 0a9a6d9e4f345d73b96bc9ab3f980f1448d3dec9 ? d6d763d2f06f5c43ac6c645dc6c76b5194f125ec False\n",
    "test_img_0 = id_to_img('0a9a6d9e4f345d73b96bc9ab3f980f1448d3dec9') / 255\n",
    "test_img_1 = id_to_img('0aa0bd14a908076356dc343f4c31e352b852bed5') / 255\n",
    "test_img_2 = id_to_img('d6d763d2f06f5c43ac6c645dc6c76b5194f125ec') / 255\n",
    "plt.imshow(test_img_0)"
   ]
  },
  {
   "cell_type": "code",
   "execution_count": 229,
   "metadata": {
    "scrolled": true
   },
   "outputs": [
    {
     "data": {
      "text/plain": [
       "array([[ 0.84343976]], dtype=float32)"
      ]
     },
     "execution_count": 229,
     "metadata": {},
     "output_type": "execute_result"
    }
   ],
   "source": [
    "model.predict_on_batch([np.array([test_img_0]), np.array([test_img_1])])"
   ]
  },
  {
   "cell_type": "code",
   "execution_count": 232,
   "metadata": {},
   "outputs": [
    {
     "data": {
      "text/plain": [
       "array([[ 0.12314554]], dtype=float32)"
      ]
     },
     "execution_count": 232,
     "metadata": {},
     "output_type": "execute_result"
    }
   ],
   "source": [
    "model.predict_on_batch([np.array([test_img_0]), np.array([test_img_2])])"
   ]
  }
 ],
 "metadata": {
  "kernelspec": {
   "display_name": "Python 3",
   "language": "python",
   "name": "python3"
  },
  "language_info": {
   "codemirror_mode": {
    "name": "ipython",
    "version": 3
   },
   "file_extension": ".py",
   "mimetype": "text/x-python",
   "name": "python",
   "nbconvert_exporter": "python",
   "pygments_lexer": "ipython3",
   "version": "3.6.3"
  }
 },
 "nbformat": 4,
 "nbformat_minor": 2
}
