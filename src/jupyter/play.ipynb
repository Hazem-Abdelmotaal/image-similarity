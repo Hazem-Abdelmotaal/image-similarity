{
 "cells": [
  {
   "cell_type": "code",
   "execution_count": 2,
   "metadata": {},
   "outputs": [
    {
     "name": "stdout",
     "output_type": "stream",
     "text": [
      "Requirement already satisfied: keras in /usr/local/lib/python3.5/dist-packages\r\n",
      "Requirement already satisfied: scipy>=0.14 in /usr/local/lib/python3.5/dist-packages (from keras)\r\n",
      "Requirement already satisfied: pyyaml in /usr/local/lib/python3.5/dist-packages (from keras)\r\n",
      "Requirement already satisfied: six>=1.9.0 in /usr/local/lib/python3.5/dist-packages (from keras)\r\n",
      "Requirement already satisfied: numpy>=1.9.1 in /usr/local/lib/python3.5/dist-packages (from keras)\r\n"
     ]
    }
   ],
   "source": [
    "import pandas as pd\n",
    "import matplotlib as mpl\n",
    "import matplotlib.pyplot as plt\n",
    "import numpy as np\n",
    "import os, random\n",
    "from keras.preprocessing.image import load_img, img_to_array, array_to_img\n",
    "from keras.models import Model\n",
    "from keras.layers import Input, Flatten, Dense, Dropout, Lambda, Reshape\n",
    "from keras.optimizers import RMSprop\n",
    "from keras import backend as K\n",
    "from keras.applications.vgg16 import VGG16\n",
    "from keras.applications.vgg16 import preprocess_input\n",
    "\n",
    "# from itertools import imap as map\n",
    "\n",
    "%matplotlib inline\n",
    "\n",
    "TABLE_FILE = \"../../data/image_pairs_filtered.csv\"\n",
    "IMAGES_DIR = \"../../data/ssd-images/\""
   ]
  },
  {
   "cell_type": "code",
   "execution_count": 3,
   "metadata": {},
   "outputs": [
    {
     "name": "stdout",
     "output_type": "stream",
     "text": [
      "(158034, 6)\n",
      "Index(['id_0', 'img_0', 'id_1', 'img_1', 'match', 'job'], dtype='object')\n",
      "Valid data:\n",
      "(125367, 7)\n",
      "Index(['id_0', 'img_0', 'id_1', 'img_1', 'match', 'job', 'is_valid'], dtype='object')\n"
     ]
    }
   ],
   "source": [
    "def is_valid_pair(row):\n",
    "    return os.path.exists(IMAGES_DIR + row['id_0'] + '.jpg') and os.path.exists(IMAGES_DIR + row['id_1'] + '.jpg')\n",
    "\n",
    "csv_data = pd.read_csv(TABLE_FILE, sep=';')\n",
    "\n",
    "print(csv_data.shape)\n",
    "print(csv_data.columns)\n",
    "\n",
    "if not os.path.exists('./pair_data.pkl'):\n",
    "    csv_data['is_valid'] = csv_data.apply(is_valid_pair, axis=1)\n",
    "    valid_data = csv_data[csv_data['is_valid'] == True].dropna()\n",
    "    valid_data.to_pickle('./pair_data.pkl')\n",
    "    csv_data = valid_data\n",
    "else:\n",
    "    csv_data = pd.read_pickle('./pair_data.pkl')\n",
    "\n",
    "print('Valid data:')\n",
    "print(csv_data.shape)\n",
    "print(csv_data.columns)"
   ]
  },
  {
   "cell_type": "code",
   "execution_count": 4,
   "metadata": {},
   "outputs": [
    {
     "name": "stdout",
     "output_type": "stream",
     "text": [
      "(125367, 7)\n",
      "Index(['id_0', 'img_0', 'id_1', 'img_1', 'match', 'job', 'is_valid'], dtype='object')\n",
      "61405 63962\n",
      "0.4898019414997567\n"
     ]
    },
    {
     "data": {
      "text/plain": [
       "'d8538bc1d41a16a4c9b346abeb48adb702444ecc'"
      ]
     },
     "execution_count": 4,
     "metadata": {},
     "output_type": "execute_result"
    }
   ],
   "source": [
    "print(csv_data.shape)\n",
    "print(csv_data.columns)\n",
    "len_true = len(csv_data[csv_data['match'] == True])\n",
    "len_false = len(csv_data[csv_data['match'] == False])\n",
    "print( len_true, len_false)\n",
    "print( len_true / (len_true + len_false) )\n",
    "csv_data.loc[1]['id_0']"
   ]
  },
  {
   "cell_type": "code",
   "execution_count": 5,
   "metadata": {},
   "outputs": [],
   "source": [
    "def data_batch(dframe, batch_size):\n",
    "#     return dframe[dframe['match'] == True][:batch_size]\n",
    "    true_sample = dframe[dframe['match'] == True].sample(n=batch_size // 2)\n",
    "    \n",
    "    false_dframe = dframe[dframe['match'] == False]\n",
    "    false_sample = pd.DataFrame()\n",
    "    for i,true_row in true_sample.iterrows():\n",
    "        false_match = false_dframe[false_dframe['id_0'] == true_row['id_0']]\n",
    "        if len(false_match) > 0 and random.random() < 0.5:\n",
    "            new_row = false_match.head(1)\n",
    "            false_sample = false_sample.append(new_row)\n",
    "        else:\n",
    "            rand_row = false_dframe.sample()\n",
    "            new_row = true_row.copy()\n",
    "            new_row['match'] = False\n",
    "            new_row['id_1'] = rand_row['id_1'].values[0]\n",
    "            new_row['img_1'] = rand_row['img_1'].values[0]\n",
    "            false_sample = pd.concat([false_sample, pd.DataFrame([new_row])])\n",
    "\n",
    "    batch = pd.concat([true_sample, false_sample]).reset_index()\n",
    "    return batch.sort_values('id_0')\n",
    "\n",
    "def data_batch_flow(dframe, batch_size):\n",
    "    while True:\n",
    "        yield data_batch(dframe, batch_size)"
   ]
  },
  {
   "cell_type": "code",
   "execution_count": 6,
   "metadata": {},
   "outputs": [],
   "source": [
    "def id_to_img(img_id):\n",
    "    try:\n",
    "        path = IMAGES_DIR + img_id + \".jpg\"\n",
    "        return img_to_array(load_img(path))\n",
    "    except Exception as e:\n",
    "        return None\n",
    "\n",
    "def row_to_img_pair(row):\n",
    "    img_0 = id_to_img(row['id_0'])\n",
    "    img_1 = id_to_img(row['id_1'])\n",
    "    if img_0 is None or img_1 is None:\n",
    "        return None, None\n",
    "    target = 1 if row['match'] == True else 0\n",
    "    \n",
    "    return [img_0 / 255, img_1 / 255], target\n",
    "\n",
    "def batch_to_img_pairs(dframe):\n",
    "    pairs = []\n",
    "    targets = []\n",
    "    for index, row in dframe.iterrows():\n",
    "        pair, target = row_to_img_pair(row)\n",
    "        if pair is not None:\n",
    "            pairs.append(pair)\n",
    "            targets.append(target)\n",
    "    \n",
    "    return np.array(pairs), np.array(targets)"
   ]
  },
  {
   "cell_type": "code",
   "execution_count": 7,
   "metadata": {},
   "outputs": [
    {
     "data": {
      "text/html": [
       "<div>\n",
       "<style scoped>\n",
       "    .dataframe tbody tr th:only-of-type {\n",
       "        vertical-align: middle;\n",
       "    }\n",
       "\n",
       "    .dataframe tbody tr th {\n",
       "        vertical-align: top;\n",
       "    }\n",
       "\n",
       "    .dataframe thead th {\n",
       "        text-align: right;\n",
       "    }\n",
       "</style>\n",
       "<table border=\"1\" class=\"dataframe\">\n",
       "  <thead>\n",
       "    <tr style=\"text-align: right;\">\n",
       "      <th></th>\n",
       "      <th>index</th>\n",
       "      <th>id_0</th>\n",
       "      <th>img_0</th>\n",
       "      <th>id_1</th>\n",
       "      <th>img_1</th>\n",
       "      <th>match</th>\n",
       "      <th>job</th>\n",
       "      <th>is_valid</th>\n",
       "    </tr>\n",
       "  </thead>\n",
       "  <tbody>\n",
       "    <tr>\n",
       "      <th>1</th>\n",
       "      <td>134228</td>\n",
       "      <td>08bef1e23f7a7ef2a79ae31e757f1fd88a51734b</td>\n",
       "      <td>http://picscdn.redblue.de/doi/pixelboxx-mss-74...</td>\n",
       "      <td>820cdcd6abf4d991b4ec16a3759418053790446a</td>\n",
       "      <td>https://images-na.ssl-images-amazon.com/images...</td>\n",
       "      <td>True</td>\n",
       "      <td>mediamarktbe.id_matching</td>\n",
       "      <td>True</td>\n",
       "    </tr>\n",
       "    <tr>\n",
       "      <th>3</th>\n",
       "      <td>134228</td>\n",
       "      <td>08bef1e23f7a7ef2a79ae31e757f1fd88a51734b</td>\n",
       "      <td>http://picscdn.redblue.de/doi/pixelboxx-mss-74...</td>\n",
       "      <td>fb626c1565d7371bb61561128a4c57e47d15c20d</td>\n",
       "      <td>http://www.vandenborre.be/WEB/images/products/...</td>\n",
       "      <td>False</td>\n",
       "      <td>mediamarktbe.id_matching</td>\n",
       "      <td>True</td>\n",
       "    </tr>\n",
       "    <tr>\n",
       "      <th>0</th>\n",
       "      <td>39042</td>\n",
       "      <td>62febe6a0bd6fb84633efc278b5e9aef1b9847a1</td>\n",
       "      <td>http://picscdn.redblue.de/doi/pixelboxx-mss-59...</td>\n",
       "      <td>21343742abe89b70750c7db5a4383b3eb2cd9322</td>\n",
       "      <td>https://s.s-bol.com/imgbase0/imagebase3/large/...</td>\n",
       "      <td>True</td>\n",
       "      <td>mediamarktbe.all_data</td>\n",
       "      <td>True</td>\n",
       "    </tr>\n",
       "    <tr>\n",
       "      <th>2</th>\n",
       "      <td>39042</td>\n",
       "      <td>62febe6a0bd6fb84633efc278b5e9aef1b9847a1</td>\n",
       "      <td>http://picscdn.redblue.de/doi/pixelboxx-mss-59...</td>\n",
       "      <td>2f682cd50001e5b46ab6ebb0c1ca3982e1f31687</td>\n",
       "      <td>http://www.vandenborre.be/WEB/images/products/...</td>\n",
       "      <td>False</td>\n",
       "      <td>mediamarktbe.all_data</td>\n",
       "      <td>True</td>\n",
       "    </tr>\n",
       "  </tbody>\n",
       "</table>\n",
       "</div>"
      ],
      "text/plain": [
       "    index                                      id_0  \\\n",
       "1  134228  08bef1e23f7a7ef2a79ae31e757f1fd88a51734b   \n",
       "3  134228  08bef1e23f7a7ef2a79ae31e757f1fd88a51734b   \n",
       "0   39042  62febe6a0bd6fb84633efc278b5e9aef1b9847a1   \n",
       "2   39042  62febe6a0bd6fb84633efc278b5e9aef1b9847a1   \n",
       "\n",
       "                                               img_0  \\\n",
       "1  http://picscdn.redblue.de/doi/pixelboxx-mss-74...   \n",
       "3  http://picscdn.redblue.de/doi/pixelboxx-mss-74...   \n",
       "0  http://picscdn.redblue.de/doi/pixelboxx-mss-59...   \n",
       "2  http://picscdn.redblue.de/doi/pixelboxx-mss-59...   \n",
       "\n",
       "                                       id_1  \\\n",
       "1  820cdcd6abf4d991b4ec16a3759418053790446a   \n",
       "3  fb626c1565d7371bb61561128a4c57e47d15c20d   \n",
       "0  21343742abe89b70750c7db5a4383b3eb2cd9322   \n",
       "2  2f682cd50001e5b46ab6ebb0c1ca3982e1f31687   \n",
       "\n",
       "                                               img_1  match  \\\n",
       "1  https://images-na.ssl-images-amazon.com/images...   True   \n",
       "3  http://www.vandenborre.be/WEB/images/products/...  False   \n",
       "0  https://s.s-bol.com/imgbase0/imagebase3/large/...   True   \n",
       "2  http://www.vandenborre.be/WEB/images/products/...  False   \n",
       "\n",
       "                        job  is_valid  \n",
       "1  mediamarktbe.id_matching      True  \n",
       "3  mediamarktbe.id_matching      True  \n",
       "0     mediamarktbe.all_data      True  \n",
       "2     mediamarktbe.all_data      True  "
      ]
     },
     "execution_count": 7,
     "metadata": {},
     "output_type": "execute_result"
    }
   ],
   "source": [
    "next(data_batch_flow(csv_data, 4))"
   ]
  },
  {
   "cell_type": "code",
   "execution_count": 8,
   "metadata": {},
   "outputs": [],
   "source": [
    "pair_flow = map(batch_to_img_pairs, data_batch_flow(csv_data, 32))"
   ]
  },
  {
   "cell_type": "code",
   "execution_count": 9,
   "metadata": {},
   "outputs": [
    {
     "data": {
      "text/plain": [
       "array([1., 1., 1.], dtype=float32)"
      ]
     },
     "execution_count": 9,
     "metadata": {},
     "output_type": "execute_result"
    }
   ],
   "source": [
    "pairs, targets = next(pair_flow)\n",
    "pair = pairs[0]\n",
    "img_0 = pair[0]\n",
    "img_1 = pair[1]\n",
    "img_0[0][0] # pixel"
   ]
  },
  {
   "cell_type": "code",
   "execution_count": 10,
   "metadata": {},
   "outputs": [
    {
     "data": {
      "text/plain": [
       "<matplotlib.image.AxesImage at 0x7f7954ed4668>"
      ]
     },
     "execution_count": 10,
     "metadata": {},
     "output_type": "execute_result"
    },
    {
     "data": {
      "image/png": "[encoded data removed]",
      "text/plain": [
       "<matplotlib.figure.Figure at 0x7f7956c7d860>"
      ]
     },
     "metadata": {},
     "output_type": "display_data"
    }
   ],
   "source": [
    "plt.imshow(img_0)"
   ]
  },
  {
   "cell_type": "code",
   "execution_count": 11,
   "metadata": {},
   "outputs": [
    {
     "data": {
      "text/plain": [
       "<matplotlib.image.AxesImage at 0x7f7951a0cd30>"
      ]
     },
     "execution_count": 11,
     "metadata": {},
     "output_type": "execute_result"
    },
    {
     "data": {
      "image/png": "[encoded data removed]",
      "text/plain": [
       "<matplotlib.figure.Figure at 0x7f7954e2bc88>"
      ]
     },
     "metadata": {},
     "output_type": "display_data"
    }
   ],
   "source": [
    "plt.imshow(img_1)"
   ]
  },
  {
   "cell_type": "code",
   "execution_count": 12,
   "metadata": {},
   "outputs": [
    {
     "name": "stdout",
     "output_type": "stream",
     "text": [
      "(32, 64, 64, 3)\n"
     ]
    }
   ],
   "source": [
    "pairs.shape\n",
    "print(pairs[:,1].shape)\n",
    "del pair_flow"
   ]
  },
  {
   "cell_type": "code",
   "execution_count": 13,
   "metadata": {},
   "outputs": [],
   "source": [
    "def euclidean_distance(vects):\n",
    "    x, y = vects\n",
    "    return K.sqrt(K.maximum(K.sum(K.square(x - y), axis=1, keepdims=True), K.epsilon()))\n",
    "\n",
    "\n",
    "def eucl_dist_output_shape(shapes):\n",
    "    shape1, shape2 = shapes\n",
    "    return (shape1[0], 1)\n",
    "\n",
    "\n",
    "def contrastive_loss(y_true, y_pred):\n",
    "    '''Contrastive loss from Hadsell-et-al.'06\n",
    "    http://yann.lecun.com/exdb/publis/pdf/hadsell-chopra-lecun-06.pdf\n",
    "    '''\n",
    "    margin = 1\n",
    "    return K.mean(y_true * K.square(y_pred) +\n",
    "                  (1 - y_true) * K.square(K.maximum(margin - y_pred, 0)))"
   ]
  },
  {
   "cell_type": "code",
   "execution_count": 14,
   "metadata": {},
   "outputs": [],
   "source": [
    "# img_array to feature vector\n",
    "def extraction_network(input_shape):\n",
    "    base_model = VGG16(weights='imagenet', include_top=False, input_shape=input_shape)\n",
    "    \n",
    "    \n",
    "    x = base_model.output\n",
    "    x = Flatten(name='flatten')(x)\n",
    "    x = Dense(512, activation='relu', name='fc1')(x)\n",
    "    features = Dense(512, activation='relu', name='fc2')(x)\n",
    "    \n",
    "    for layer in base_model.layers:\n",
    "        layer.trainable = False\n",
    "    \n",
    "    model = Model(inputs=base_model.input, outputs=features)\n",
    "    model.summary()\n",
    "    return model"
   ]
  },
  {
   "cell_type": "code",
   "execution_count": 15,
   "metadata": {
    "scrolled": true
   },
   "outputs": [
    {
     "name": "stdout",
     "output_type": "stream",
     "text": [
      "Downloading data from https://github.com/fchollet/deep-learning-models/releases/download/v0.1/vgg16_weights_tf_dim_ordering_tf_kernels_notop.h5\n",
      "58892288/58889256 [==============================] - 46s 1us/step\n",
      "_________________________________________________________________\n",
      "Layer (type)                 Output Shape              Param #   \n",
      "=================================================================\n",
      "input_1 (InputLayer)         (None, 64, 64, 3)         0         \n",
      "_________________________________________________________________\n",
      "block1_conv1 (Conv2D)        (None, 64, 64, 64)        1792      \n",
      "_________________________________________________________________\n",
      "block1_conv2 (Conv2D)        (None, 64, 64, 64)        36928     \n",
      "_________________________________________________________________\n",
      "block1_pool (MaxPooling2D)   (None, 32, 32, 64)        0         \n",
      "_________________________________________________________________\n",
      "block2_conv1 (Conv2D)        (None, 32, 32, 128)       73856     \n",
      "_________________________________________________________________\n",
      "block2_conv2 (Conv2D)        (None, 32, 32, 128)       147584    \n",
      "_________________________________________________________________\n",
      "block2_pool (MaxPooling2D)   (None, 16, 16, 128)       0         \n",
      "_________________________________________________________________\n",
      "block3_conv1 (Conv2D)        (None, 16, 16, 256)       295168    \n",
      "_________________________________________________________________\n",
      "block3_conv2 (Conv2D)        (None, 16, 16, 256)       590080    \n",
      "_________________________________________________________________\n",
      "block3_conv3 (Conv2D)        (None, 16, 16, 256)       590080    \n",
      "_________________________________________________________________\n",
      "block3_pool (MaxPooling2D)   (None, 8, 8, 256)         0         \n",
      "_________________________________________________________________\n",
      "block4_conv1 (Conv2D)        (None, 8, 8, 512)         1180160   \n",
      "_________________________________________________________________\n",
      "block4_conv2 (Conv2D)        (None, 8, 8, 512)         2359808   \n",
      "_________________________________________________________________\n",
      "block4_conv3 (Conv2D)        (None, 8, 8, 512)         2359808   \n",
      "_________________________________________________________________\n",
      "block4_pool (MaxPooling2D)   (None, 4, 4, 512)         0         \n",
      "_________________________________________________________________\n",
      "block5_conv1 (Conv2D)        (None, 4, 4, 512)         2359808   \n",
      "_________________________________________________________________\n",
      "block5_conv2 (Conv2D)        (None, 4, 4, 512)         2359808   \n",
      "_________________________________________________________________\n",
      "block5_conv3 (Conv2D)        (None, 4, 4, 512)         2359808   \n",
      "_________________________________________________________________\n",
      "block5_pool (MaxPooling2D)   (None, 2, 2, 512)         0         \n",
      "_________________________________________________________________\n",
      "flatten (Flatten)            (None, 2048)              0         \n",
      "_________________________________________________________________\n",
      "fc1 (Dense)                  (None, 512)               1049088   \n",
      "_________________________________________________________________\n",
      "fc2 (Dense)                  (None, 512)               262656    \n",
      "=================================================================\n",
      "Total params: 16,026,432\n",
      "Trainable params: 1,311,744\n",
      "Non-trainable params: 14,714,688\n",
      "_________________________________________________________________\n"
     ]
    }
   ],
   "source": [
    "def compute_accuracy(y_true, y_pred):\n",
    "    '''Compute classification accuracy with a fixed threshold on distances.\n",
    "    '''\n",
    "    pred = y_pred.ravel() < 0.5\n",
    "    return np.mean(pred == y_true)\n",
    "\n",
    "\n",
    "def accuracy(y_true, y_pred):\n",
    "    '''Compute classification accuracy with a fixed threshold on distances.\n",
    "    '''\n",
    "    return K.mean(K.equal(y_true, K.cast(y_pred < 0.5, y_true.dtype)))\n",
    "\n",
    "\n",
    "input_shape = (64, 64, 3)\n",
    "\n",
    "base_network = extraction_network(input_shape)\n",
    "\n",
    "input_a = Input(shape=input_shape)\n",
    "input_b = Input(shape=input_shape)\n",
    "\n",
    "processed_a = base_network(input_a)\n",
    "processed_b = base_network(input_b)\n",
    "\n",
    "distance = Lambda(euclidean_distance,\n",
    "                  output_shape=eucl_dist_output_shape)([processed_a, processed_b])\n",
    "\n",
    "model = Model([input_a, input_b], distance)"
   ]
  },
  {
   "cell_type": "code",
   "execution_count": 16,
   "metadata": {},
   "outputs": [
    {
     "data": {
      "text/plain": [
       "<tf.Tensor 'model_1/fc2/Relu:0' shape=(?, 512) dtype=float32>"
      ]
     },
     "execution_count": 16,
     "metadata": {},
     "output_type": "execute_result"
    }
   ],
   "source": [
    "processed_a"
   ]
  },
  {
   "cell_type": "code",
   "execution_count": 17,
   "metadata": {},
   "outputs": [
    {
     "name": "stdout",
     "output_type": "stream",
     "text": [
      "Epoch 1/3\n",
      "100/100 [==============================] - 67s 675ms/step - loss: 0.2627 - accuracy: 0.7478 - val_loss: 0.1589 - val_accuracy: 0.7750\n",
      "Epoch 2/3\n",
      "100/100 [==============================] - 58s 578ms/step - loss: 0.1418 - accuracy: 0.8263 - val_loss: 0.1151 - val_accuracy: 0.8688\n",
      "Epoch 3/3\n",
      "100/100 [==============================] - 66s 664ms/step - loss: 0.1365 - accuracy: 0.8366 - val_loss: 0.1303 - val_accuracy: 0.8500\n"
     ]
    },
    {
     "data": {
      "text/plain": [
       "<keras.callbacks.History at 0x7f7954a0eac8>"
      ]
     },
     "execution_count": 17,
     "metadata": {},
     "output_type": "execute_result"
    }
   ],
   "source": [
    "# train\n",
    "tr_pair_flow = map(batch_to_img_pairs, data_batch_flow(csv_data, 32))\n",
    "te_pair_flow = map(batch_to_img_pairs, data_batch_flow(csv_data, 32))\n",
    "\n",
    "tr_pair_flow_gen = map(lambda batch: ([batch[0][:,0], batch[0][:,1]], batch[1]), tr_pair_flow)\n",
    "te_pair_flow_gen = map(lambda batch: ([batch[0][:,0], batch[0][:,1]], batch[1]), te_pair_flow)\n",
    "\n",
    "\n",
    "rms = RMSprop()\n",
    "model.compile(loss=contrastive_loss, optimizer=rms, metrics=[accuracy])\n",
    "model.fit_generator(\n",
    "    tr_pair_flow_gen,\n",
    "    steps_per_epoch=100,\n",
    "    epochs=3,\n",
    "    validation_data=te_pair_flow_gen,\n",
    "    validation_steps=10,\n",
    ")"
   ]
  },
  {
   "cell_type": "code",
   "execution_count": 18,
   "metadata": {},
   "outputs": [
    {
     "name": "stdout",
     "output_type": "stream",
     "text": [
      "* Accuracy on training set: 81.25%\n",
      "* Accuracy on test set: 78.12%\n"
     ]
    }
   ],
   "source": [
    "# compute final accuracy on training and test sets\n",
    "tr_batch, tr_y = next(tr_pair_flow_gen)\n",
    "te_batch, te_y = next(te_pair_flow_gen)\n",
    "\n",
    "y_pred = model.predict_on_batch(tr_batch)\n",
    "tr_acc = compute_accuracy(tr_y, y_pred)\n",
    "y_pred = model.predict(te_batch)\n",
    "te_acc = compute_accuracy(te_y, y_pred)\n",
    "\n",
    "print('* Accuracy on training set: %0.2f%%' % (100 * tr_acc))\n",
    "print('* Accuracy on test set: %0.2f%%' % (100 * te_acc))"
   ]
  },
  {
   "cell_type": "code",
   "execution_count": 19,
   "metadata": {},
   "outputs": [
    {
     "data": {
      "text/plain": [
       "<matplotlib.image.AxesImage at 0x7f7952b9fd30>"
      ]
     },
     "execution_count": 19,
     "metadata": {},
     "output_type": "execute_result"
    },
    {
     "data": {
      "image/png": "[encoded data removed]",
      "text/plain": [
       "<matplotlib.figure.Figure at 0x7f79543f5f98>"
      ]
     },
     "metadata": {},
     "output_type": "display_data"
    }
   ],
   "source": [
    "# 0a9a6d9e4f345d73b96bc9ab3f980f1448d3dec9 ? 0aa0bd14a908076356dc343f4c31e352b852bed5 False\n",
    "# 0a9a6d9e4f345d73b96bc9ab3f980f1448d3dec9 ? d6d763d2f06f5c43ac6c645dc6c76b5194f125ec False\n",
    "test_img_0 = id_to_img('0a9a6d9e4f345d73b96bc9ab3f980f1448d3dec9') / 255\n",
    "test_img_1 = id_to_img('0aa0bd14a908076356dc343f4c31e352b852bed5') / 255\n",
    "test_img_2 = id_to_img('d6d763d2f06f5c43ac6c645dc6c76b5194f125ec') / 255\n",
    "plt.imshow(test_img_0)"
   ]
  },
  {
   "cell_type": "code",
   "execution_count": 20,
   "metadata": {
    "scrolled": true
   },
   "outputs": [
    {
     "data": {
      "text/plain": [
       "array([[0.93449426]], dtype=float32)"
      ]
     },
     "execution_count": 20,
     "metadata": {},
     "output_type": "execute_result"
    }
   ],
   "source": [
    "model.predict_on_batch([np.array([test_img_0]), np.array([test_img_1])])"
   ]
  },
  {
   "cell_type": "code",
   "execution_count": 21,
   "metadata": {},
   "outputs": [
    {
     "data": {
      "text/plain": [
       "array([[0.36089844]], dtype=float32)"
      ]
     },
     "execution_count": 21,
     "metadata": {},
     "output_type": "execute_result"
    }
   ],
   "source": [
    "model.predict_on_batch([np.array([test_img_0]), np.array([test_img_2])])"
   ]
  }
 ],
 "metadata": {
  "kernelspec": {
   "display_name": "Python 3",
   "language": "python",
   "name": "python3"
  },
  "language_info": {
   "codemirror_mode": {
    "name": "ipython",
    "version": 3
   },
   "file_extension": ".py",
   "mimetype": "text/x-python",
   "name": "python",
   "nbconvert_exporter": "python",
   "pygments_lexer": "ipython3",
   "version": "3.5.2"
  }
 },
 "nbformat": 4,
 "nbformat_minor": 2
}
