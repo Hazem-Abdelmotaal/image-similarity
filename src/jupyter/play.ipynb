{
 "cells": [
  {
   "cell_type": "code",
   "execution_count": 1,
   "metadata": {},
   "outputs": [
    {
     "name": "stderr",
     "output_type": "stream",
     "text": [
      "Using TensorFlow backend.\n"
     ]
    },
    {
     "name": "stdout",
     "output_type": "stream",
     "text": [
      "(88310, 6)\n",
      "Index(['id_0', 'img_0', 'id_1', 'img_1', 'match', 'job'], dtype='object')\n"
     ]
    }
   ],
   "source": [
    "import sklearn\n",
    "import pandas as pd\n",
    "import matplotlib as mpl\n",
    "import matplotlib.pyplot as plt\n",
    "import seaborn as sns\n",
    "import numpy as np\n",
    "import os\n",
    "from keras.preprocessing.image import load_img, img_to_array, array_to_img\n",
    "from keras.models import Model\n",
    "from keras.layers import Input, Flatten, Dense, Dropout, Lambda\n",
    "from keras.optimizers import RMSprop\n",
    "from keras import backend as K\n",
    "\n",
    "%matplotlib inline\n",
    "\n",
    "TABLE_FILE = \"../../data/image_pairs_filtered.csv\"\n",
    "IMAGES_DIR = \"../../data/ssd-images/\"\n",
    "\n",
    "csv_data = pd.read_csv(TABLE_FILE, sep=';')\n",
    "\n",
    "print(csv_data.shape)\n",
    "print(csv_data.columns)"
   ]
  },
  {
   "cell_type": "code",
   "execution_count": 2,
   "metadata": {
    "collapsed": true
   },
   "outputs": [],
   "source": [
    "def is_valid_pair(row):\n",
    "    return os.path.exists(IMAGES_DIR + row['id_0'] + '.jpg') and os.path.exists(IMAGES_DIR + row['id_1'] + '.jpg')\n",
    "\n",
    "\n",
    "if not os.path.exists('./pair_data.pkl'):\n",
    "    half = int(csv_data.shape[0] / 2) # I have half of the images downloaded\n",
    "    csv_data['is_valid'] = csv_data[:half].apply(is_valid_pair, axis=1)\n",
    "    valid_data = csv_data[csv_data['is_valid'] == True].dropna()\n",
    "    valid_data.to_pickle('./pair_data.pkl')\n",
    "    csv_data = valid_data\n",
    "else:\n",
    "    csv_data = pd.read_pickle('./pair_data.pkl')\n"
   ]
  },
  {
   "cell_type": "code",
   "execution_count": 3,
   "metadata": {},
   "outputs": [
    {
     "name": "stdout",
     "output_type": "stream",
     "text": [
      "(37412, 7)\n",
      "Index(['id_0', 'img_0', 'id_1', 'img_1', 'match', 'job', 'is_valid'], dtype='object')\n"
     ]
    }
   ],
   "source": [
    "print(csv_data.shape)\n",
    "print(csv_data.columns)"
   ]
  },
  {
   "cell_type": "code",
   "execution_count": 4,
   "metadata": {
    "collapsed": true
   },
   "outputs": [],
   "source": [
    "def data_batch(dframe, batch_size):\n",
    "#     return dframe[dframe['match'] == True][:batch_size]\n",
    "    true_sample = dframe[dframe['match'] == True].sample(n=batch_size // 2)\n",
    "    false_sample = dframe[dframe['match'] == False].sample(n=batch_size // 2)\n",
    "    \n",
    "    batch = pd.concat([true_sample, false_sample])\n",
    "    return batch.sample(frac=1)\n",
    "\n",
    "def data_batch_flow(dframe, batch_size):\n",
    "    while True:\n",
    "        yield data_batch(dframe, batch_size)"
   ]
  },
  {
   "cell_type": "code",
   "execution_count": 5,
   "metadata": {
    "collapsed": true
   },
   "outputs": [],
   "source": [
    "def id_to_img(img_id):\n",
    "    try:\n",
    "        path = f\"{IMAGES_DIR}{img_id}.jpg\"\n",
    "        return img_to_array(load_img(path))\n",
    "    except Exception as e:\n",
    "        return None\n",
    "\n",
    "def row_to_img_pair(row):\n",
    "    img_0 = id_to_img(row['id_0'])\n",
    "    img_1 = id_to_img(row['id_1'])\n",
    "    if img_0 is None or img_1 is None:\n",
    "        return None, None\n",
    "    target = 1 if row['match'] == True else 0\n",
    "    \n",
    "    return [img_0 / 255, img_1 / 255], target\n",
    "\n",
    "def batch_to_img_pairs(dframe):\n",
    "    pairs = []\n",
    "    targets = []\n",
    "    for index, row in dframe.iterrows():\n",
    "        pair, target = row_to_img_pair(row)\n",
    "        if pair is not None:\n",
    "            pairs.append(pair)\n",
    "            targets.append(target)\n",
    "    \n",
    "    return np.array(pairs), np.array(targets)"
   ]
  },
  {
   "cell_type": "code",
   "execution_count": 6,
   "metadata": {
    "collapsed": true
   },
   "outputs": [],
   "source": [
    "pair_flow = map(batch_to_img_pairs, data_batch_flow(csv_data, 32))"
   ]
  },
  {
   "cell_type": "code",
   "execution_count": 7,
   "metadata": {},
   "outputs": [
    {
     "data": {
      "text/plain": [
       "array([ 1.,  1.,  1.], dtype=float32)"
      ]
     },
     "execution_count": 7,
     "metadata": {},
     "output_type": "execute_result"
    }
   ],
   "source": [
    "pairs, targets = next(pair_flow)\n",
    "pair = pairs[0]\n",
    "img_0 = pair[0]\n",
    "img_1 = pair[1]\n",
    "img_0[0][0] # pixel"
   ]
  },
  {
   "cell_type": "code",
   "execution_count": 8,
   "metadata": {},
   "outputs": [
    {
     "data": {
      "text/plain": [
       "<matplotlib.image.AxesImage at 0x7fd94ad30be0>"
      ]
     },
     "execution_count": 8,
     "metadata": {},
     "output_type": "execute_result"
    },
    {
     "data": {
      "image/png": "[encoded data removed]",
      "text/plain": [
       "<matplotlib.figure.Figure at 0x7fd94b596358>"
      ]
     },
     "metadata": {},
     "output_type": "display_data"
    }
   ],
   "source": [
    "plt.imshow(img_0)"
   ]
  },
  {
   "cell_type": "code",
   "execution_count": 9,
   "metadata": {},
   "outputs": [
    {
     "data": {
      "text/plain": [
       "<matplotlib.image.AxesImage at 0x7fd94c47cd30>"
      ]
     },
     "execution_count": 9,
     "metadata": {},
     "output_type": "execute_result"
    },
    {
     "data": {
      "image/png": "[encoded data removed]",
      "text/plain": [
       "<matplotlib.figure.Figure at 0x7fd94ba5ac50>"
      ]
     },
     "metadata": {},
     "output_type": "display_data"
    }
   ],
   "source": [
    "plt.imshow(img_1)"
   ]
  },
  {
   "cell_type": "code",
   "execution_count": 10,
   "metadata": {},
   "outputs": [
    {
     "name": "stdout",
     "output_type": "stream",
     "text": [
      "(32, 64, 64, 3)\n"
     ]
    }
   ],
   "source": [
    "pairs.shape\n",
    "print(pairs[:,1].shape)\n",
    "del pair_flow"
   ]
  },
  {
   "cell_type": "code",
   "execution_count": 11,
   "metadata": {
    "collapsed": true
   },
   "outputs": [],
   "source": [
    "def euclidean_distance(vects):\n",
    "    x, y = vects\n",
    "    return K.sqrt(K.maximum(K.sum(K.square(x - y), axis=1, keepdims=True), K.epsilon()))\n",
    "\n",
    "\n",
    "def eucl_dist_output_shape(shapes):\n",
    "    shape1, shape2 = shapes\n",
    "    return (shape1[0], 1)\n",
    "\n",
    "\n",
    "def contrastive_loss(y_true, y_pred):\n",
    "    '''Contrastive loss from Hadsell-et-al.'06\n",
    "    http://yann.lecun.com/exdb/publis/pdf/hadsell-chopra-lecun-06.pdf\n",
    "    '''\n",
    "    margin = 1\n",
    "    return K.mean(y_true * K.square(y_pred) +\n",
    "                  (1 - y_true) * K.square(K.maximum(margin - y_pred, 0)))"
   ]
  },
  {
   "cell_type": "code",
   "execution_count": null,
   "metadata": {
    "collapsed": true
   },
   "outputs": [],
   "source": [
    "def create_base_network(input_shape):\n",
    "    '''Base network to be shared (eq. to feature extraction).\n",
    "    '''\n",
    "    input = Input(shape=input_shape)\n",
    "    x = Flatten()(input)\n",
    "    x = Dense(64, activation='relu')(x)\n",
    "    x = Dropout(0.1)(x)\n",
    "    x = Dense(64, activation='relu')(x)\n",
    "    x = Dropout(0.1)(x)\n",
    "    x = Dense(64, activation='relu')(x)\n",
    "    return Model(input, x)\n",
    "\n",
    "def compute_accuracy(y_true, y_pred):\n",
    "    '''Compute classification accuracy with a fixed threshold on distances.\n",
    "    '''\n",
    "    pred = y_pred.ravel() < 0.5\n",
    "    return np.mean(pred == y_true)\n",
    "\n",
    "\n",
    "def accuracy(y_true, y_pred):\n",
    "    '''Compute classification accuracy with a fixed threshold on distances.\n",
    "    '''\n",
    "    return K.mean(K.equal(y_true, K.cast(y_pred < 0.5, y_true.dtype)))\n",
    "\n",
    "\n",
    "\n",
    "input_shape = (64, 64, 3)\n",
    "\n",
    "base_network = create_base_network(input_shape)\n",
    "\n",
    "input_a = Input(shape=input_shape)\n",
    "input_b = Input(shape=input_shape)\n",
    "\n",
    "processed_a = base_network(input_a)\n",
    "processed_b = base_network(input_b)\n",
    "\n",
    "distance = Lambda(euclidean_distance,\n",
    "                  output_shape=eucl_dist_output_shape)([processed_a, processed_b])\n",
    "\n",
    "model = Model([input_a, input_b], distance)"
   ]
  },
  {
   "cell_type": "code",
   "execution_count": null,
   "metadata": {},
   "outputs": [
    {
     "name": "stdout",
     "output_type": "stream",
     "text": [
      "Epoch 1/10\n",
      "100/100 [==============================] - 33s - loss: 8.8206 - accuracy: 0.5209 - val_loss: 0.4997 - val_accuracy: 0.5000\n",
      "Epoch 2/10\n",
      "100/100 [==============================] - 28s - loss: 0.4135 - accuracy: 0.5003 - val_loss: 0.4997 - val_accuracy: 0.5000\n",
      "Epoch 3/10\n",
      "100/100 [==============================] - 23s - loss: 0.3408 - accuracy: 0.5022 - val_loss: 0.4997 - val_accuracy: 0.5000\n",
      "Epoch 4/10\n",
      "100/100 [==============================] - 25s - loss: 0.3037 - accuracy: 0.4925 - val_loss: 0.4997 - val_accuracy: 0.5000\n",
      "Epoch 5/10\n",
      "100/100 [==============================] - 24s - loss: 0.3855 - accuracy: 0.4944 - val_loss: 0.4997 - val_accuracy: 0.5000\n",
      "Epoch 6/10\n",
      "100/100 [==============================] - 24s - loss: 0.2810 - accuracy: 0.4978 - val_loss: 0.4997 - val_accuracy: 0.5000\n",
      "Epoch 7/10\n",
      " 80/100 [=======================>......] - ETA: 4s - loss: 0.2794 - accuracy: 0.5082"
     ]
    }
   ],
   "source": [
    "# train\n",
    "tr_pair_flow = map(batch_to_img_pairs, data_batch_flow(csv_data, 32))\n",
    "te_pair_flow = map(batch_to_img_pairs, data_batch_flow(csv_data, 32))\n",
    "\n",
    "tr_pair_flow_gen = map(lambda batch: ([batch[0][:,0], batch[0][:,1]], batch[1]), tr_pair_flow)\n",
    "te_pair_flow_gen = map(lambda batch: ([batch[0][:,0], batch[0][:,1]], batch[1]), te_pair_flow)\n",
    "\n",
    "\n",
    "rms = RMSprop()\n",
    "model.compile(loss=contrastive_loss, optimizer=rms, metrics=[accuracy])\n",
    "model.fit_generator(\n",
    "    tr_pair_flow_gen,\n",
    "    steps_per_epoch=100,\n",
    "    epochs=10,\n",
    "    validation_data=te_pair_flow_gen,\n",
    "    validation_steps=10,\n",
    ")"
   ]
  },
  {
   "cell_type": "code",
   "execution_count": null,
   "metadata": {},
   "outputs": [],
   "source": [
    "# compute final accuracy on training and test sets\n",
    "tr_batch, tr_y = next(tr_pair_flow_gen)\n",
    "te_batch, te_y = next(te_pair_flow_gen)\n",
    "\n",
    "y_pred = model.predict_on_batch(tr_batch)\n",
    "tr_acc = compute_accuracy(tr_y, y_pred)\n",
    "y_pred = model.predict(te_batch)\n",
    "te_acc = compute_accuracy(te_y, y_pred)\n",
    "\n",
    "print('* Accuracy on training set: %0.2f%%' % (100 * tr_acc))\n",
    "print('* Accuracy on test set: %0.2f%%' % (100 * te_acc))"
   ]
  }
 ],
 "metadata": {
  "kernelspec": {
   "display_name": "Python 3",
   "language": "python",
   "name": "python3"
  },
  "language_info": {
   "codemirror_mode": {
    "name": "ipython",
    "version": 3
   },
   "file_extension": ".py",
   "mimetype": "text/x-python",
   "name": "python",
   "nbconvert_exporter": "python",
   "pygments_lexer": "ipython3",
   "version": "3.6.3"
  }
 },
 "nbformat": 4,
 "nbformat_minor": 2
}
