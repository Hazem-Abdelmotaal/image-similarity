{
 "cells": [
  {
   "cell_type": "code",
   "execution_count": 5,
   "metadata": {},
   "outputs": [
    {
     "name": "stdout",
     "output_type": "stream",
     "text": [
      "The autoreload extension is already loaded. To reload it, use:\n",
      "  %reload_ext autoreload\n"
     ]
    }
   ],
   "source": [
    "%load_ext autoreload\n",
    "import os\n",
    "import sys\n",
    "module_path = os.path.abspath(os.path.join('..'))\n",
    "if module_path not in sys.path:\n",
    "    sys.path.append(module_path)"
   ]
  },
  {
   "cell_type": "code",
   "execution_count": 6,
   "metadata": {},
   "outputs": [],
   "source": [
    "%autoreload\n",
    "\n",
    "import numpy as np\n",
    "import pandas as pd\n",
    "import matplotlib as mpl\n",
    "import matplotlib.pyplot as plt\n",
    "\n",
    "from keras.optimizers import RMSprop\n",
    "from keras import backend as K\n",
    "from keras.models import load_model\n",
    "%matplotlib inline\n",
    "\n",
    "import pickle\n",
    "\n",
    "#\n",
    "from vgg16_siamese import vgg16_siamese, contrastive_loss\n",
    "import data_processing as data_p\n",
    "\n",
    "IMG_DIR = \"../../data/ssd-images/\""
   ]
  },
  {
   "cell_type": "code",
   "execution_count": 8,
   "metadata": {},
   "outputs": [],
   "source": [
    "def accuracy(y_true, y_pred):\n",
    "    '''Compute classification accuracy with a fixed threshold on distances.\n",
    "    '''\n",
    "    return K.mean(K.equal(y_true, K.cast(y_pred < 0.5, y_true.dtype)))\n",
    "\n",
    "sVgg16 = load_model('./svgg16_model_0.h5', custom_objects={\n",
    "    'contrastive_loss': contrastive_loss,\n",
    "    'accuracy': accuracy\n",
    "})"
   ]
  },
  {
   "cell_type": "code",
   "execution_count": 43,
   "metadata": {
    "scrolled": true
   },
   "outputs": [
    {
     "name": "stdout",
     "output_type": "stream",
     "text": [
      "0.67682 True b6fd7f3a5b9fd84d59d37968d40d780386398bf1 eaa249fbd1a6ac827894529fe49b8c747d4e253c\n",
      "0.14585368 False 32dad167f88b4b2a09ed24c9558e8be37219ecbf 9c273f849efbc5894f1a8c57813a1837c5eadb83\n",
      "0.28280082 True b828aa56ccc0cac4844d5d59b9e316958d8ec6fe 6f36c15dd822cf39990214c543ab18ddd9ed7cfb\n",
      "0.3156129 True ad69d403d4a107ffdf29edc6379d85ec9bb6176f dfd828c4cc4280b19adfe5bfa235abede18ea56a\n",
      "0.073329516 True 65d3df47e60a712d96b5b7575a57d40ce22b1859 65b0addb683f462cf62c3a56717cff7025321bf6\n",
      "0.23379414 True 819740abe32a6443dbb8ff357272ca56c75205df 0eafc44e3a10eb0de75fe8e5d6585de60973f89e\n",
      "0.64233536 False 51a61a4d512979f39b516d77b029e894d8022f3d a240fb34775955c8c7cea29d5b4bf9745b77f5c2\n",
      "0.2550682 True 89d8265c2a1858a83d2fbbc9222598308b97ca1b 980729fe4a73260f15430634f256c6c246e51948\n",
      "0.27240327 True 151cadd456be3840ad8db83eb35a98d02051235e b47684d125295f75bb9b4970b7a3ffb23b2a9467\n",
      "0.4176711 False 67396fe8d64ed10bdde268bd9380a647abecfbad 660fa350fca6dc13ddf704252c98fedf9231ff0f\n",
      "0.6037865 True dedbb235cf7ba45d8731184752b12c245f8daecd bd79812585d3a07d579e6aaa0a5c2870bdf943d9\n",
      "0.56660634 False 18a1e68c4605eb4f389b1cbbc843a22e4b92fcc3 a1721927ffcd28760dcd40ed9c46f664366199f7\n",
      "0.12798606 True 7529f318995b2ce09ced26d044a0d7aa91ac1dad a257073187381e45ff452f52cc401a5782afbdef\n",
      "0.9534187 True 2709a0f5623a52a00d832bbfd15357c7ce620e5d d17b8d4fa5500c016c36c2be7f5c25c4c11b4ac3\n",
      "0.5324171 True dccdfb2f08d34534928f73f8bf42373043ed3fe6 7046a483e3624b1bf90cffb8fdff62330b07671d\n",
      "0.26722968 True 36d6a8226b55909d3baf71e15ff3995a7fe3846a f6e6415556de257971c21449abcab4621e37b3f0\n",
      "0.2731234 True 40d4ae5f77b1c5015da3013ffade62c9d4938cc0 95c00c629bf91a3788d03a5840d52e67f5b1d035\n",
      "0.21613687 False 54dd106836372e510cc3426b866f0922b82c2e12 9655ff08ab8d434098a0264e7c7e53ce9983c34a\n",
      "0.6384817 True 864eb31054958a9db96428e48f68ddc132dec31d a62b80f426cc33b65fcb0bba2b796c9baa1e0414\n",
      "0.2719487 True 277275810f0ceb76ef06eb2807785cad5c477a35 f48a61a5020c8b4193f8a950cd01774c4d973346\n",
      "0.25592571 True 3475208755d961f7d9a8521aac0d718e2874bb37 5951ae851ba1ad218927f354046b92230dcf62e0\n",
      "0.4356087 True 7bd1ca11b35877f6066af63b3f2f3990487df797 4625046ca90e7947889010b29920a68ee1d4a40b\n",
      "0.78500557 True 1fa37f4aa6993b95aeb4c4020e89968943d22953 46b768037f795f70d9c6f113a4e2c02eed1e0228\n",
      "0.37318003 False daf5ebb7ffd8a9caf493bbbe07e58beba716ed30 928cebb00988c57985f7aff275e70bfb57922f1c\n",
      "0.48000696 False 6b46d16923540fc9642ae67210906d4fbf9acb51 83f9642d69f92a14a8eb3aed4100771bddf52e10\n",
      "0.24025227 True 7a7bb06f42007240341ff8bc7ed584d80457580d 8f24a8d68cf3fe9e04c72a6b3b68c74e1eaf9a66\n",
      "0.37414572 True f300c448e2e23381f1cb5cf89969727c659a7a2f baecfbfb68d6144128c98687c0ae29b91bd3c67c\n",
      "0.3381116 True a9425273fc68cab2dd92a467df69ea2e82d511a6 77438481d8aad1abfc80620c57701a93ee4152e6\n",
      "0.7280224 True 72b89df603e98bf80ff510ab671b24a6014de010 60d9c3cc92f6c3abc4f096f4c4e8e8b2e73fc25e\n",
      "0.7324882 False 137aa5902ee60ad99b21127ec612c32c3e240658 3b91755908c92ea89a989ab7141b1c212878d3a5\n",
      "0.15288357 True 3517f2d4e98113d08d24dbe36a1da37a140f8ff7 3f584c6b25b79f49d68f4a9afa3774130f0fa8ae\n",
      "0.18398587 True 7f66d6508f92c2dcca5cc4a9c109be3bc1382c39 72a669acb74734f84db2e473bc4b1f2cfd847b4a\n"
     ]
    }
   ],
   "source": [
    "test_batches = pickle.load(open('./batches/split_test_batches.pkl', 'rb'))\n",
    "\n",
    "# TODO: get rand pair from rand batch\n",
    "\n",
    "# row = test_batches[0].iloc[2]\n",
    "\n",
    "def predict_row(model, row):\n",
    "    img_0 = data_p.id_to_jpg(row['id_0'], IMG_DIR)\n",
    "    img_1 = data_p.id_to_jpg(row['id_1'], IMG_DIR)\n",
    "    \n",
    "    left, right = data_p.pair_augmentation(img_0, img_1)\n",
    "    left = data_p.preprocess_input(np.array(left), mode='tf')\n",
    "    right = data_p.preprocess_input(np.array(right), mode='tf')\n",
    "    \n",
    "    predictions = model.predict_on_batch([left, right])\n",
    "#     print(predictions)\n",
    "    return np.mean(predictions)\n",
    "\n",
    "\n",
    "for i,row in test_batches[0].iterrows():\n",
    "    dist = predict_row(sVgg16,row)\n",
    "    print(dist, (dist < 0.5)== row['match'], row['id_0'], row['id_1'])"
   ]
  },
  {
   "cell_type": "code",
   "execution_count": 44,
   "metadata": {},
   "outputs": [
    {
     "data": {
      "text/plain": [
       "<matplotlib.image.AxesImage at 0x7f461827f908>"
      ]
     },
     "execution_count": 44,
     "metadata": {},
     "output_type": "execute_result"
    },
    {
     "data": {
      "image/png": "[encoded data removed]",
      "text/plain": [
       "<matplotlib.figure.Figure at 0x7f46072f4390>"
      ]
     },
     "metadata": {},
     "output_type": "display_data"
    }
   ],
   "source": [
    "plt.imshow(data_p.id_to_jpg('51a61a4d512979f39b516d77b029e894d8022f3d', IMG_DIR) / 255)"
   ]
  },
  {
   "cell_type": "code",
   "execution_count": 46,
   "metadata": {},
   "outputs": [
    {
     "data": {
      "text/plain": [
       "<matplotlib.image.AxesImage at 0x7f461836e2b0>"
      ]
     },
     "execution_count": 46,
     "metadata": {},
     "output_type": "execute_result"
    },
    {
     "data": {
      "image/png": "[encoded data removed]",
      "text/plain": [
       "<matplotlib.figure.Figure at 0x7f45f1568e80>"
      ]
     },
     "metadata": {},
     "output_type": "display_data"
    }
   ],
   "source": [
    "plt.imshow(data_p.id_to_jpg('a240fb34775955c8c7cea29d5b4bf9745b77f5c2', IMG_DIR) / 255)"
   ]
  },
  {
   "cell_type": "code",
   "execution_count": 55,
   "metadata": {},
   "outputs": [
    {
     "name": "stdout",
     "output_type": "stream",
     "text": [
      "[[False]\n",
      " [False]\n",
      " [ True]\n",
      " [ True]\n",
      " [False]\n",
      " [False]\n",
      " [False]\n",
      " [False]\n",
      " [False]\n",
      " [False]\n",
      " [False]\n",
      " [ True]\n",
      " [False]\n",
      " [False]\n",
      " [ True]\n",
      " [False]\n",
      " [False]\n",
      " [False]\n",
      " [False]\n",
      " [False]\n",
      " [False]\n",
      " [False]\n",
      " [False]\n",
      " [False]\n",
      " [False]\n",
      " [False]\n",
      " [False]\n",
      " [False]\n",
      " [ True]\n",
      " [False]\n",
      " [False]\n",
      " [False]]\n"
     ]
    }
   ],
   "source": [
    "def find_nearest(model, img_id, dataset):\n",
    "    find_img = data_p.id_to_jpg(img_id, IMG_DIR)\n",
    "    find_img = data_p.preprocess_input(np.array([find_img]), mode='tf')[0]\n",
    "    find_img = np.array([find_img] * len(dataset))\n",
    "        \n",
    "    dataset_images = []\n",
    "    for i,row in dataset.iterrows():\n",
    "        dataset_images.append(row['id_1'])\n",
    "        \n",
    "    dataset_images = map(lambda x: data_p.id_to_jpg(x, IMG_DIR), dataset_images)\n",
    "    dataset_images = data_p.preprocess_input(np.array(list(dataset_images)), mode='tf')\n",
    "    \n",
    "    dists = model.predict_on_batch([find_img, dataset_images])\n",
    "    print(dists < 0.5, )\n",
    "\n",
    "find_nearest(sVgg16, 'dedbb235cf7ba45d8731184752b12c245f8daecd', test_batches[0])"
   ]
  }
 ],
 "metadata": {
  "kernelspec": {
   "display_name": "Python 3",
   "language": "python",
   "name": "python3"
  },
  "language_info": {
   "codemirror_mode": {
    "name": "ipython",
    "version": 3
   },
   "file_extension": ".py",
   "mimetype": "text/x-python",
   "name": "python",
   "nbconvert_exporter": "python",
   "pygments_lexer": "ipython3",
   "version": "3.5.2"
  }
 },
 "nbformat": 4,
 "nbformat_minor": 2
}
