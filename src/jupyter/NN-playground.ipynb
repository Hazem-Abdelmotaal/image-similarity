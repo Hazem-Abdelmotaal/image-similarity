{
 "cells": [
  {
   "cell_type": "code",
   "execution_count": 1,
   "metadata": {},
   "outputs": [],
   "source": [
    "%load_ext autoreload\n",
    "import os\n",
    "import sys\n",
    "module_path = os.path.abspath(os.path.join('..'))\n",
    "if module_path not in sys.path:\n",
    "    sys.path.append(module_path)"
   ]
  },
  {
   "cell_type": "code",
   "execution_count": 2,
   "metadata": {},
   "outputs": [
    {
     "name": "stderr",
     "output_type": "stream",
     "text": [
      "/usr/local/lib/python3.5/dist-packages/h5py/__init__.py:36: FutureWarning: Conversion of the second argument of issubdtype from `float` to `np.floating` is deprecated. In future, it will be treated as `np.float64 == np.dtype(float).type`.\n",
      "  from ._conv import register_converters as _register_converters\n",
      "Using TensorFlow backend.\n"
     ]
    }
   ],
   "source": [
    "%autoreload\n",
    "\n",
    "import numpy as np\n",
    "import pandas as pd\n",
    "import matplotlib as mpl\n",
    "import matplotlib.pyplot as plt\n",
    "\n",
    "from keras.optimizers import RMSprop\n",
    "from keras import backend as K\n",
    "from keras.models import load_model\n",
    "%matplotlib inline\n",
    "\n",
    "import pickle\n",
    "\n",
    "#\n",
    "from vgg16_siamese import vgg16_siamese, contrastive_loss\n",
    "import data_processing as data_p\n",
    "\n",
    "IMG_DIR = \"../../data/ssd-images/\""
   ]
  },
  {
   "cell_type": "code",
   "execution_count": 3,
   "metadata": {},
   "outputs": [],
   "source": [
    "# load training data\n",
    "train_batches = pickle.load(open('./batches/train_batches.pkl', 'rb'))\n",
    "# val_batches = pickle.load(open('./batches/fake_split_train_batches.pkl', 'rb'))\n",
    "test_batches = pickle.load(open('./batches/test_batches.pkl', 'rb'))"
   ]
  },
  {
   "cell_type": "code",
   "execution_count": 4,
   "metadata": {},
   "outputs": [
    {
     "name": "stdout",
     "output_type": "stream",
     "text": [
      "__________________________________________________________________________________________________\n",
      "Layer (type)                    Output Shape         Param #     Connected to                     \n",
      "==================================================================================================\n",
      "input_2 (InputLayer)            (None, 64, 64, 3)    0                                            \n",
      "__________________________________________________________________________________________________\n",
      "input_3 (InputLayer)            (None, 64, 64, 3)    0                                            \n",
      "__________________________________________________________________________________________________\n",
      "model_1 (Model)                 (None, 512)          16026432    input_2[0][0]                    \n",
      "                                                                 input_3[0][0]                    \n",
      "__________________________________________________________________________________________________\n",
      "lambda_1 (Lambda)               (None, 1)            0           model_1[1][0]                    \n",
      "                                                                 model_1[2][0]                    \n",
      "==================================================================================================\n",
      "Total params: 16,026,432\n",
      "Trainable params: 1,311,744\n",
      "Non-trainable params: 14,714,688\n",
      "__________________________________________________________________________________________________\n"
     ]
    }
   ],
   "source": [
    "input_shape = (64, 64, 3) # 64x64 rgb images\n",
    "siamese_network = vgg16_siamese(input_shape)\n",
    "\n",
    "siamese_network.summary()"
   ]
  },
  {
   "cell_type": "code",
   "execution_count": 5,
   "metadata": {
    "scrolled": true
   },
   "outputs": [
    {
     "name": "stdout",
     "output_type": "stream",
     "text": [
      "Epoch 1/40\n",
      "50/50 [==============================] - 84s 2s/step - loss: 0.4654 - accuracy: 0.6198 - val_loss: 0.2337 - val_accuracy: 0.6375\n",
      "Epoch 2/40\n",
      "50/50 [==============================] - 76s 2s/step - loss: 0.2040 - accuracy: 0.6973 - val_loss: 0.2062 - val_accuracy: 0.7069\n",
      "Epoch 3/40\n",
      "50/50 [==============================] - 76s 2s/step - loss: 0.1984 - accuracy: 0.7135 - val_loss: 0.1969 - val_accuracy: 0.7042\n",
      "Epoch 4/40\n",
      "50/50 [==============================] - 76s 2s/step - loss: 0.2006 - accuracy: 0.7021 - val_loss: 0.1983 - val_accuracy: 0.7028\n",
      "Epoch 5/40\n",
      "50/50 [==============================] - 76s 2s/step - loss: 0.1829 - accuracy: 0.7427 - val_loss: 0.1768 - val_accuracy: 0.7625\n",
      "Epoch 6/40\n",
      "50/50 [==============================] - 76s 2s/step - loss: 0.1883 - accuracy: 0.7235 - val_loss: 0.1866 - val_accuracy: 0.7500\n",
      "Epoch 7/40\n",
      "50/50 [==============================] - 76s 2s/step - loss: 0.1869 - accuracy: 0.7163 - val_loss: 0.1852 - val_accuracy: 0.7417\n",
      "Epoch 8/40\n",
      "50/50 [==============================] - 76s 2s/step - loss: 0.1813 - accuracy: 0.7404 - val_loss: 0.2080 - val_accuracy: 0.7194\n",
      "Epoch 9/40\n",
      "50/50 [==============================] - 76s 2s/step - loss: 0.1835 - accuracy: 0.7352 - val_loss: 0.1640 - val_accuracy: 0.7778\n",
      "Epoch 10/40\n",
      "50/50 [==============================] - 76s 2s/step - loss: 0.1783 - accuracy: 0.7467 - val_loss: 0.1812 - val_accuracy: 0.7528\n",
      "Epoch 11/40\n",
      "50/50 [==============================] - 76s 2s/step - loss: 0.1743 - accuracy: 0.7554 - val_loss: 0.1682 - val_accuracy: 0.7660\n",
      "Epoch 12/40\n",
      "50/50 [==============================] - 76s 2s/step - loss: 0.1737 - accuracy: 0.7656 - val_loss: 0.1772 - val_accuracy: 0.7722\n",
      "Epoch 13/40\n",
      "50/50 [==============================] - 76s 2s/step - loss: 0.1711 - accuracy: 0.7646 - val_loss: 0.1607 - val_accuracy: 0.7924\n",
      "Epoch 14/40\n",
      "50/50 [==============================] - 76s 2s/step - loss: 0.1809 - accuracy: 0.7481 - val_loss: 0.1816 - val_accuracy: 0.7153\n",
      "Epoch 15/40\n",
      "50/50 [==============================] - 76s 2s/step - loss: 0.1627 - accuracy: 0.7831 - val_loss: 0.1731 - val_accuracy: 0.7507\n",
      "Epoch 16/40\n",
      " 7/50 [===>..........................] - ETA: 50s - loss: 0.1602 - accuracy: 0.7976"
     ]
    },
    {
     "name": "stderr",
     "output_type": "stream",
     "text": [
      "/usr/local/lib/python3.5/dist-packages/PIL/TiffImagePlugin.py:742: UserWarning: Corrupt EXIF data.  Expecting to read 4 bytes but only got 0. \n",
      "  warnings.warn(str(msg))\n"
     ]
    },
    {
     "name": "stdout",
     "output_type": "stream",
     "text": [
      "50/50 [==============================] - 76s 2s/step - loss: 0.1706 - accuracy: 0.7587 - val_loss: 0.1666 - val_accuracy: 0.7861\n",
      "Epoch 17/40\n",
      "50/50 [==============================] - 76s 2s/step - loss: 0.1687 - accuracy: 0.7588 - val_loss: 0.1671 - val_accuracy: 0.7826\n",
      "Epoch 18/40\n",
      "50/50 [==============================] - 76s 2s/step - loss: 0.1705 - accuracy: 0.7667 - val_loss: 0.1659 - val_accuracy: 0.7576\n",
      "Epoch 19/40\n",
      "50/50 [==============================] - 76s 2s/step - loss: 0.1607 - accuracy: 0.7710 - val_loss: 0.1670 - val_accuracy: 0.7590\n",
      "Epoch 20/40\n",
      "50/50 [==============================] - 76s 2s/step - loss: 0.1637 - accuracy: 0.7729 - val_loss: 0.1713 - val_accuracy: 0.7507\n",
      "Epoch 21/40\n",
      "50/50 [==============================] - 76s 2s/step - loss: 0.1644 - accuracy: 0.7675 - val_loss: 0.1647 - val_accuracy: 0.7792\n",
      "Epoch 22/40\n",
      "50/50 [==============================] - 76s 2s/step - loss: 0.1605 - accuracy: 0.7796 - val_loss: 0.1504 - val_accuracy: 0.8111\n",
      "Epoch 23/40\n",
      "50/50 [==============================] - 76s 2s/step - loss: 0.1641 - accuracy: 0.7760 - val_loss: 0.1583 - val_accuracy: 0.7792\n",
      "Epoch 24/40\n",
      "50/50 [==============================] - 76s 2s/step - loss: 0.1593 - accuracy: 0.7915 - val_loss: 0.1694 - val_accuracy: 0.7729\n",
      "Epoch 25/40\n",
      "50/50 [==============================] - 76s 2s/step - loss: 0.1656 - accuracy: 0.7758 - val_loss: 0.1626 - val_accuracy: 0.7771\n",
      "Epoch 26/40\n",
      "50/50 [==============================] - 78s 2s/step - loss: 0.1563 - accuracy: 0.7925 - val_loss: 0.1548 - val_accuracy: 0.7833\n",
      "Epoch 27/40\n",
      "50/50 [==============================] - 76s 2s/step - loss: 0.1625 - accuracy: 0.7735 - val_loss: 0.1725 - val_accuracy: 0.7576\n",
      "Epoch 28/40\n",
      "50/50 [==============================] - 77s 2s/step - loss: 0.1494 - accuracy: 0.8088 - val_loss: 0.1651 - val_accuracy: 0.7812\n",
      "Epoch 29/40\n",
      "50/50 [==============================] - 77s 2s/step - loss: 0.1625 - accuracy: 0.7671 - val_loss: 0.1445 - val_accuracy: 0.7965\n",
      "Epoch 30/40\n",
      "50/50 [==============================] - 79s 2s/step - loss: 0.1659 - accuracy: 0.7700 - val_loss: 0.1545 - val_accuracy: 0.8104\n",
      "Epoch 31/40\n",
      "50/50 [==============================] - 76s 2s/step - loss: 0.1548 - accuracy: 0.7933 - val_loss: 0.1511 - val_accuracy: 0.8028\n",
      "Epoch 32/40\n",
      "50/50 [==============================] - 78s 2s/step - loss: 0.1589 - accuracy: 0.7798 - val_loss: 0.1421 - val_accuracy: 0.8139\n",
      "Epoch 33/40\n",
      "50/50 [==============================] - 77s 2s/step - loss: 0.1606 - accuracy: 0.7902 - val_loss: 0.1511 - val_accuracy: 0.8063\n",
      "Epoch 34/40\n",
      "50/50 [==============================] - 77s 2s/step - loss: 0.1530 - accuracy: 0.7967 - val_loss: 0.1637 - val_accuracy: 0.7576\n",
      "Epoch 35/40\n",
      "50/50 [==============================] - 76s 2s/step - loss: 0.1473 - accuracy: 0.8052 - val_loss: 0.1596 - val_accuracy: 0.7965\n",
      "Epoch 36/40\n",
      "50/50 [==============================] - 77s 2s/step - loss: 0.1555 - accuracy: 0.7858 - val_loss: 0.1482 - val_accuracy: 0.8000\n",
      "Epoch 37/40\n",
      "50/50 [==============================] - 77s 2s/step - loss: 0.1436 - accuracy: 0.8077 - val_loss: 0.1572 - val_accuracy: 0.7882\n",
      "Epoch 38/40\n",
      "50/50 [==============================] - 76s 2s/step - loss: 0.1475 - accuracy: 0.8117 - val_loss: 0.1507 - val_accuracy: 0.7986\n",
      "Epoch 39/40\n",
      "50/50 [==============================] - 76s 2s/step - loss: 0.1457 - accuracy: 0.8012 - val_loss: 0.1472 - val_accuracy: 0.8104\n",
      "Epoch 40/40\n",
      "50/50 [==============================] - 76s 2s/step - loss: 0.1501 - accuracy: 0.7944 - val_loss: 0.1313 - val_accuracy: 0.8396\n"
     ]
    }
   ],
   "source": [
    "def accuracy(y_true, y_pred):\n",
    "    '''Compute classification accuracy with a fixed threshold on distances.\n",
    "    '''\n",
    "    return K.mean(K.equal(y_true, K.cast(y_pred < 0.5, y_true.dtype)))\n",
    "\n",
    "def to_img_pairs(batch):\n",
    "    return data_p.df_to_img_pair(batch, IMG_DIR)\n",
    "\n",
    "train_img_batches = map(to_img_pairs, train_batches)\n",
    "# val_img_batches = map(to_img_pairs, val_batches)\n",
    "test_img_batches = map(to_img_pairs, test_batches)\n",
    "\n",
    "rms = RMSprop()\n",
    "siamese_network.compile(loss=contrastive_loss, optimizer=rms, metrics=[accuracy])\n",
    "train_history = siamese_network.fit_generator(\n",
    "    train_img_batches,\n",
    "    steps_per_epoch=50,\n",
    "    epochs=40,\n",
    "    validation_data=train_img_batches,\n",
    "    validation_steps=15,\n",
    ")"
   ]
  },
  {
   "cell_type": "code",
   "execution_count": 6,
   "metadata": {},
   "outputs": [],
   "source": [
    "siamese_network.save('./svgg16_model_5_5.h5')"
   ]
  },
  {
   "cell_type": "code",
   "execution_count": 7,
   "metadata": {},
   "outputs": [
    {
     "name": "stdout",
     "output_type": "stream",
     "text": [
      "* Accuracy on test set: 80.64%\n"
     ]
    }
   ],
   "source": [
    "# compute final accuracy on training and test sets\n",
    "tr_img_batches = map(to_img_pairs, train_batches)\n",
    "te_img_batches = map(to_img_pairs, test_batches)\n",
    "\n",
    "# tr_loss, tr_acc = siamese_network.evaluate_generator(tr_img_batches, steps=50)\n",
    "te_loss, te_acc = siamese_network.evaluate_generator(te_img_batches, steps=1000)\n",
    "\n",
    "# print('* Accuracy on training set: %0.2f%%' % (100 * tr_acc))\n",
    "print('* Accuracy on test set: %0.2f%%' % (100 * te_acc))"
   ]
  },
  {
   "cell_type": "code",
   "execution_count": 8,
   "metadata": {
    "scrolled": true
   },
   "outputs": [
    {
     "data": {
      "text/html": [
       "<div>\n",
       "<style scoped>\n",
       "    .dataframe tbody tr th:only-of-type {\n",
       "        vertical-align: middle;\n",
       "    }\n",
       "\n",
       "    .dataframe tbody tr th {\n",
       "        vertical-align: top;\n",
       "    }\n",
       "\n",
       "    .dataframe thead th {\n",
       "        text-align: right;\n",
       "    }\n",
       "</style>\n",
       "<table border=\"1\" class=\"dataframe\">\n",
       "  <thead>\n",
       "    <tr style=\"text-align: right;\">\n",
       "      <th></th>\n",
       "      <th>id_0</th>\n",
       "      <th>id_1</th>\n",
       "      <th>match</th>\n",
       "    </tr>\n",
       "  </thead>\n",
       "  <tbody>\n",
       "    <tr>\n",
       "      <th>40066</th>\n",
       "      <td>7084db41e7781b1ba3762179700e7a04bc307f0b</td>\n",
       "      <td>5b9361958cbe0888aaa0cb6c6452c41247904716</td>\n",
       "      <td>False</td>\n",
       "    </tr>\n",
       "    <tr>\n",
       "      <th>56133</th>\n",
       "      <td>44dfa81a1f699e80ce3a682db25e82a774152116</td>\n",
       "      <td>4a6aafd0c8d6f7de71b697b09c1c5f6573eea797</td>\n",
       "      <td>True</td>\n",
       "    </tr>\n",
       "    <tr>\n",
       "      <th>18831</th>\n",
       "      <td>55fdbc21ef9089f1721e2f3be7b4dfb22216d002</td>\n",
       "      <td>ceac2bcccb02d7944b933fed02d0e6805a83c0e7</td>\n",
       "      <td>False</td>\n",
       "    </tr>\n",
       "    <tr>\n",
       "      <th>68610</th>\n",
       "      <td>261eb65bd320020097360a875f79b7f08980ff1d</td>\n",
       "      <td>659fd01bf228e18b672d59de57c28e394de9c2e7</td>\n",
       "      <td>False</td>\n",
       "    </tr>\n",
       "    <tr>\n",
       "      <th>29410</th>\n",
       "      <td>39573bb29e50777f08b3291397efbc0053d675de</td>\n",
       "      <td>9cbda1dced2ad49155b98b0e86a158d350dfdfc2</td>\n",
       "      <td>False</td>\n",
       "    </tr>\n",
       "    <tr>\n",
       "      <th>13707</th>\n",
       "      <td>5bfa8ea84bed2c3b5fc0537a01b2d9cefbaf78d1</td>\n",
       "      <td>e84700b5497cf4acec9c6762b9e531bbaad3ec7f</td>\n",
       "      <td>False</td>\n",
       "    </tr>\n",
       "    <tr>\n",
       "      <th>21553</th>\n",
       "      <td>a8b5bafeee96ed652fe46c60acda8d51dd5e5b5a</td>\n",
       "      <td>3725834b8cb040087f40dbd176a0e8a0a7f5a62c</td>\n",
       "      <td>False</td>\n",
       "    </tr>\n",
       "    <tr>\n",
       "      <th>77674</th>\n",
       "      <td>ed41306930dcf2402d7121dfb3cefdf23db494b1</td>\n",
       "      <td>b373ef9a84ddae9dcc0647f022828cb7e47f7747</td>\n",
       "      <td>False</td>\n",
       "    </tr>\n",
       "    <tr>\n",
       "      <th>9536</th>\n",
       "      <td>20b3a374a6fe6784f16325f4f8163b7d662d95e1</td>\n",
       "      <td>bd39dd29c349221d2693da154a942f477fd682e2</td>\n",
       "      <td>True</td>\n",
       "    </tr>\n",
       "    <tr>\n",
       "      <th>70435</th>\n",
       "      <td>1364eb28726a63adb311ac59b77c063124c777f1</td>\n",
       "      <td>c08279c9e24928ad8ec996f2e8d79bfe1eae3557</td>\n",
       "      <td>False</td>\n",
       "    </tr>\n",
       "    <tr>\n",
       "      <th>103928</th>\n",
       "      <td>34450367ed42891041972f3575bb8a714a2c5ff6</td>\n",
       "      <td>5b81445fad73604796a5e76e26c52eff2d1d2171</td>\n",
       "      <td>False</td>\n",
       "    </tr>\n",
       "    <tr>\n",
       "      <th>124749</th>\n",
       "      <td>5405e8457705f11abad7072873288715bc032d2f</td>\n",
       "      <td>69db2fe8851bcd4fb54730637cba1d514275e9b3</td>\n",
       "      <td>False</td>\n",
       "    </tr>\n",
       "    <tr>\n",
       "      <th>144057</th>\n",
       "      <td>19b7f905a62e85155be273e087b0e5aa35c23580</td>\n",
       "      <td>a60995f8c5b5cf105fedd14f3888e4b86f801550</td>\n",
       "      <td>True</td>\n",
       "    </tr>\n",
       "    <tr>\n",
       "      <th>79623</th>\n",
       "      <td>fff401d81b9ff1c9c78e33cc5b5c8cdbee5a82f6</td>\n",
       "      <td>682b984ecb0d81ed6a520600aba683b063b4533b</td>\n",
       "      <td>True</td>\n",
       "    </tr>\n",
       "    <tr>\n",
       "      <th>144784</th>\n",
       "      <td>5d1f101cef448632731ffbf467ed2481af839ef4</td>\n",
       "      <td>c2d696934a8bed137a10ae56d5e4d1c0a047c953</td>\n",
       "      <td>False</td>\n",
       "    </tr>\n",
       "    <tr>\n",
       "      <th>110345</th>\n",
       "      <td>7a480bc152415fbe1903cb3a423753e3142147a4</td>\n",
       "      <td>6084d5c7d7132144db0e542b280f05f1c5c86214</td>\n",
       "      <td>False</td>\n",
       "    </tr>\n",
       "    <tr>\n",
       "      <th>116228</th>\n",
       "      <td>d530a2342ebec1fa72579e60316c4a0452ffd904</td>\n",
       "      <td>1e35aa4023bee350a96475eb809c4ac587f874aa</td>\n",
       "      <td>True</td>\n",
       "    </tr>\n",
       "    <tr>\n",
       "      <th>89451</th>\n",
       "      <td>72f0ce659b22b53a1b2ff20e67903acb5e29a060</td>\n",
       "      <td>5b2929e7e129451fb66db276eb40f453c50a3cc2</td>\n",
       "      <td>False</td>\n",
       "    </tr>\n",
       "    <tr>\n",
       "      <th>107568</th>\n",
       "      <td>e42248fb7409d4c9c48f7dddbde759f6b0856399</td>\n",
       "      <td>134880a47ef6cfa0682107587bd773dd02febf11</td>\n",
       "      <td>False</td>\n",
       "    </tr>\n",
       "    <tr>\n",
       "      <th>59705</th>\n",
       "      <td>906b1ff6e9bebf3841831c04528982538683104a</td>\n",
       "      <td>9097ee060ced1144183edd3ef0c4ef3b09f2c3fc</td>\n",
       "      <td>False</td>\n",
       "    </tr>\n",
       "    <tr>\n",
       "      <th>91860</th>\n",
       "      <td>889dd5c8395450a89b86091dc11a84c2f29d3f9f</td>\n",
       "      <td>d1864e0763a23364d2d72b638588a05b89182bd5</td>\n",
       "      <td>False</td>\n",
       "    </tr>\n",
       "    <tr>\n",
       "      <th>117529</th>\n",
       "      <td>eb71ae48a6a2cbade91545327c77bb60937db04b</td>\n",
       "      <td>0c1c61bf6c08e05c05213f12be92528d8fbabc77</td>\n",
       "      <td>False</td>\n",
       "    </tr>\n",
       "    <tr>\n",
       "      <th>72793</th>\n",
       "      <td>77d66429fda7588113e2b6513e3a0f01a8e170de</td>\n",
       "      <td>ae81fceb0c8814fdead4123ccb3cb6ec804d3b65</td>\n",
       "      <td>False</td>\n",
       "    </tr>\n",
       "    <tr>\n",
       "      <th>128357</th>\n",
       "      <td>05c7508df2377d96e268ed448a31643980d251bd</td>\n",
       "      <td>cc56755dda0daeea7e0716358b9266dc3798394c</td>\n",
       "      <td>False</td>\n",
       "    </tr>\n",
       "    <tr>\n",
       "      <th>125096</th>\n",
       "      <td>cfc51fb7b335ea7831dff3172e09f141985558b2</td>\n",
       "      <td>71ae76ec8222e8ea401628d238c12156b2a2815d</td>\n",
       "      <td>False</td>\n",
       "    </tr>\n",
       "    <tr>\n",
       "      <th>43751</th>\n",
       "      <td>969564ef8a50875aa26643a8cbddd9219f8d84df</td>\n",
       "      <td>9203de47fffa0938978310a4a41a9cb902609a55</td>\n",
       "      <td>True</td>\n",
       "    </tr>\n",
       "    <tr>\n",
       "      <th>35448</th>\n",
       "      <td>88ae2429b05787f003854d5ccb06d79aa3636c33</td>\n",
       "      <td>ff074fcb5a8c8eb97a27957c0dc9dd30972f36f3</td>\n",
       "      <td>False</td>\n",
       "    </tr>\n",
       "    <tr>\n",
       "      <th>67383</th>\n",
       "      <td>7eaf1cdf2e14b5310f76aa8540591c321b84aa9e</td>\n",
       "      <td>b50abf23d13b107a61e8cb0d6b9ec59bf94a2e40</td>\n",
       "      <td>False</td>\n",
       "    </tr>\n",
       "    <tr>\n",
       "      <th>39166</th>\n",
       "      <td>8850b37614d9c710ea2874fb3bd07b8db909f88d</td>\n",
       "      <td>54848ff6257d5028e018a532f76074a20a338aac</td>\n",
       "      <td>True</td>\n",
       "    </tr>\n",
       "    <tr>\n",
       "      <th>93874</th>\n",
       "      <td>e341036ae86df5b001560b0c5a1a6848afacbbe1</td>\n",
       "      <td>24b76b76d628b594b507fe025ae3d8d2b41c7401</td>\n",
       "      <td>True</td>\n",
       "    </tr>\n",
       "    <tr>\n",
       "      <th>27801</th>\n",
       "      <td>00f10cb2df0430a526bda386a08ef53dcdac5227</td>\n",
       "      <td>cfa97c4965edd3554a2941ecf9a539c8cb033aa4</td>\n",
       "      <td>True</td>\n",
       "    </tr>\n",
       "    <tr>\n",
       "      <th>102390</th>\n",
       "      <td>85e4fcb814529ef9abc52a87b92fb004d99750ea</td>\n",
       "      <td>0a3a87f43f1f3e5b07d728fc2bd8d4c965ef283c</td>\n",
       "      <td>True</td>\n",
       "    </tr>\n",
       "  </tbody>\n",
       "</table>\n",
       "</div>"
      ],
      "text/plain": [
       "                                            id_0  \\\n",
       "40066   7084db41e7781b1ba3762179700e7a04bc307f0b   \n",
       "56133   44dfa81a1f699e80ce3a682db25e82a774152116   \n",
       "18831   55fdbc21ef9089f1721e2f3be7b4dfb22216d002   \n",
       "68610   261eb65bd320020097360a875f79b7f08980ff1d   \n",
       "29410   39573bb29e50777f08b3291397efbc0053d675de   \n",
       "13707   5bfa8ea84bed2c3b5fc0537a01b2d9cefbaf78d1   \n",
       "21553   a8b5bafeee96ed652fe46c60acda8d51dd5e5b5a   \n",
       "77674   ed41306930dcf2402d7121dfb3cefdf23db494b1   \n",
       "9536    20b3a374a6fe6784f16325f4f8163b7d662d95e1   \n",
       "70435   1364eb28726a63adb311ac59b77c063124c777f1   \n",
       "103928  34450367ed42891041972f3575bb8a714a2c5ff6   \n",
       "124749  5405e8457705f11abad7072873288715bc032d2f   \n",
       "144057  19b7f905a62e85155be273e087b0e5aa35c23580   \n",
       "79623   fff401d81b9ff1c9c78e33cc5b5c8cdbee5a82f6   \n",
       "144784  5d1f101cef448632731ffbf467ed2481af839ef4   \n",
       "110345  7a480bc152415fbe1903cb3a423753e3142147a4   \n",
       "116228  d530a2342ebec1fa72579e60316c4a0452ffd904   \n",
       "89451   72f0ce659b22b53a1b2ff20e67903acb5e29a060   \n",
       "107568  e42248fb7409d4c9c48f7dddbde759f6b0856399   \n",
       "59705   906b1ff6e9bebf3841831c04528982538683104a   \n",
       "91860   889dd5c8395450a89b86091dc11a84c2f29d3f9f   \n",
       "117529  eb71ae48a6a2cbade91545327c77bb60937db04b   \n",
       "72793   77d66429fda7588113e2b6513e3a0f01a8e170de   \n",
       "128357  05c7508df2377d96e268ed448a31643980d251bd   \n",
       "125096  cfc51fb7b335ea7831dff3172e09f141985558b2   \n",
       "43751   969564ef8a50875aa26643a8cbddd9219f8d84df   \n",
       "35448   88ae2429b05787f003854d5ccb06d79aa3636c33   \n",
       "67383   7eaf1cdf2e14b5310f76aa8540591c321b84aa9e   \n",
       "39166   8850b37614d9c710ea2874fb3bd07b8db909f88d   \n",
       "93874   e341036ae86df5b001560b0c5a1a6848afacbbe1   \n",
       "27801   00f10cb2df0430a526bda386a08ef53dcdac5227   \n",
       "102390  85e4fcb814529ef9abc52a87b92fb004d99750ea   \n",
       "\n",
       "                                            id_1  match  \n",
       "40066   5b9361958cbe0888aaa0cb6c6452c41247904716  False  \n",
       "56133   4a6aafd0c8d6f7de71b697b09c1c5f6573eea797   True  \n",
       "18831   ceac2bcccb02d7944b933fed02d0e6805a83c0e7  False  \n",
       "68610   659fd01bf228e18b672d59de57c28e394de9c2e7  False  \n",
       "29410   9cbda1dced2ad49155b98b0e86a158d350dfdfc2  False  \n",
       "13707   e84700b5497cf4acec9c6762b9e531bbaad3ec7f  False  \n",
       "21553   3725834b8cb040087f40dbd176a0e8a0a7f5a62c  False  \n",
       "77674   b373ef9a84ddae9dcc0647f022828cb7e47f7747  False  \n",
       "9536    bd39dd29c349221d2693da154a942f477fd682e2   True  \n",
       "70435   c08279c9e24928ad8ec996f2e8d79bfe1eae3557  False  \n",
       "103928  5b81445fad73604796a5e76e26c52eff2d1d2171  False  \n",
       "124749  69db2fe8851bcd4fb54730637cba1d514275e9b3  False  \n",
       "144057  a60995f8c5b5cf105fedd14f3888e4b86f801550   True  \n",
       "79623   682b984ecb0d81ed6a520600aba683b063b4533b   True  \n",
       "144784  c2d696934a8bed137a10ae56d5e4d1c0a047c953  False  \n",
       "110345  6084d5c7d7132144db0e542b280f05f1c5c86214  False  \n",
       "116228  1e35aa4023bee350a96475eb809c4ac587f874aa   True  \n",
       "89451   5b2929e7e129451fb66db276eb40f453c50a3cc2  False  \n",
       "107568  134880a47ef6cfa0682107587bd773dd02febf11  False  \n",
       "59705   9097ee060ced1144183edd3ef0c4ef3b09f2c3fc  False  \n",
       "91860   d1864e0763a23364d2d72b638588a05b89182bd5  False  \n",
       "117529  0c1c61bf6c08e05c05213f12be92528d8fbabc77  False  \n",
       "72793   ae81fceb0c8814fdead4123ccb3cb6ec804d3b65  False  \n",
       "128357  cc56755dda0daeea7e0716358b9266dc3798394c  False  \n",
       "125096  71ae76ec8222e8ea401628d238c12156b2a2815d  False  \n",
       "43751   9203de47fffa0938978310a4a41a9cb902609a55   True  \n",
       "35448   ff074fcb5a8c8eb97a27957c0dc9dd30972f36f3  False  \n",
       "67383   b50abf23d13b107a61e8cb0d6b9ec59bf94a2e40  False  \n",
       "39166   54848ff6257d5028e018a532f76074a20a338aac   True  \n",
       "93874   24b76b76d628b594b507fe025ae3d8d2b41c7401   True  \n",
       "27801   cfa97c4965edd3554a2941ecf9a539c8cb033aa4   True  \n",
       "102390  0a3a87f43f1f3e5b07d728fc2bd8d4c965ef283c   True  "
      ]
     },
     "execution_count": 8,
     "metadata": {},
     "output_type": "execute_result"
    }
   ],
   "source": [
    "# siamese_network.save('./svgg16_model_small_0.h5')\n",
    "\n",
    "\n",
    "test_batches[1]"
   ]
  },
  {
   "cell_type": "code",
   "execution_count": 9,
   "metadata": {},
   "outputs": [
    {
     "data": {
      "text/plain": [
       "array([[0.44686267]], dtype=float32)"
      ]
     },
     "execution_count": 9,
     "metadata": {},
     "output_type": "execute_result"
    }
   ],
   "source": [
    "test_img_a, test_img_b = data_p.preprocess_input(np.array([\n",
    "    data_p.id_to_jpg('5bfa8ea84bed2c3b5fc0537a01b2d9cefbaf78d1', IMG_DIR),\n",
    "    data_p.id_to_jpg('e84700b5497cf4acec9c6762b9e531bbaad3ec7f', IMG_DIR)\n",
    "]), mode='tf')\n",
    "siamese_network.predict_on_batch([np.array([test_img_a]), np.array([test_img_b])])"
   ]
  },
  {
   "cell_type": "code",
   "execution_count": 10,
   "metadata": {},
   "outputs": [
    {
     "data": {
      "text/plain": [
       "<matplotlib.image.AxesImage at 0x7fe677dadd68>"
      ]
     },
     "execution_count": 10,
     "metadata": {},
     "output_type": "execute_result"
    },
    {
     "data": {
      "image/png": "[encoded data removed]",
      "text/plain": [
       "<matplotlib.figure.Figure at 0x7fe677fd12b0>"
      ]
     },
     "metadata": {},
     "output_type": "display_data"
    }
   ],
   "source": [
    "plt.imshow(data_p.id_to_jpg('5bfa8ea84bed2c3b5fc0537a01b2d9cefbaf78d1', IMG_DIR) / 255)"
   ]
  },
  {
   "cell_type": "code",
   "execution_count": 11,
   "metadata": {},
   "outputs": [
    {
     "data": {
      "text/plain": [
       "<matplotlib.image.AxesImage at 0x7fe677bc35f8>"
      ]
     },
     "execution_count": 11,
     "metadata": {},
     "output_type": "execute_result"
    },
    {
     "data": {
      "image/png": "[encoded data removed]",
      "text/plain": [
       "<matplotlib.figure.Figure at 0x7fe677d88ba8>"
      ]
     },
     "metadata": {},
     "output_type": "display_data"
    }
   ],
   "source": [
    "plt.imshow(np.flip(data_p.id_to_jpg('e84700b5497cf4acec9c6762b9e531bbaad3ec7f', IMG_DIR) / 255, axis=1))"
   ]
  },
  {
   "cell_type": "code",
   "execution_count": 14,
   "metadata": {},
   "outputs": [
    {
     "name": "stderr",
     "output_type": "stream",
     "text": [
      "/usr/local/lib/python3.5/dist-packages/PIL/TiffImagePlugin.py:742: UserWarning: Corrupt EXIF data.  Expecting to read 4 bytes but only got 0. \n",
      "  warnings.warn(str(msg))\n"
     ]
    }
   ],
   "source": [
    "tr_img_batches = map(to_img_pairs, train_batches)\n",
    "tr_loss, tr_acc = siamese_network.evaluate_generator(tr_img_batches, steps=1000)"
   ]
  },
  {
   "cell_type": "code",
   "execution_count": 15,
   "metadata": {},
   "outputs": [
    {
     "data": {
      "text/plain": [
       "0.8097708333730698"
      ]
     },
     "execution_count": 15,
     "metadata": {},
     "output_type": "execute_result"
    }
   ],
   "source": [
    "tr_acc"
   ]
  }
 ],
 "metadata": {
  "kernelspec": {
   "display_name": "Python 3",
   "language": "python",
   "name": "python3"
  },
  "language_info": {
   "codemirror_mode": {
    "name": "ipython",
    "version": 3
   },
   "file_extension": ".py",
   "mimetype": "text/x-python",
   "name": "python",
   "nbconvert_exporter": "python",
   "pygments_lexer": "ipython3",
   "version": "3.5.2"
  }
 },
 "nbformat": 4,
 "nbformat_minor": 2
}
