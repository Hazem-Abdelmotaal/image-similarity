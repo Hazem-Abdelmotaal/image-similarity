{
 "cells": [
  {
   "cell_type": "code",
   "execution_count": 5,
   "metadata": {},
   "outputs": [
    {
     "name": "stdout",
     "output_type": "stream",
     "text": [
      "The autoreload extension is already loaded. To reload it, use:\n",
      "  %reload_ext autoreload\n"
     ]
    }
   ],
   "source": [
    "%load_ext autoreload\n",
    "import os\n",
    "import sys\n",
    "module_path = os.path.abspath(os.path.join('..'))\n",
    "if module_path not in sys.path:\n",
    "    sys.path.append(module_path)"
   ]
  },
  {
   "cell_type": "code",
   "execution_count": 6,
   "metadata": {},
   "outputs": [
    {
     "name": "stderr",
     "output_type": "stream",
     "text": [
      "/usr/local/lib/python3.5/dist-packages/h5py/__init__.py:36: FutureWarning: Conversion of the second argument of issubdtype from `float` to `np.floating` is deprecated. In future, it will be treated as `np.float64 == np.dtype(float).type`.\n",
      "  from ._conv import register_converters as _register_converters\n",
      "Using TensorFlow backend.\n"
     ]
    }
   ],
   "source": [
    "%autoreload\n",
    "\n",
    "import numpy as np\n",
    "import pandas as pd\n",
    "import matplotlib as mpl\n",
    "import matplotlib.pyplot as plt\n",
    "%matplotlib inline\n",
    "\n",
    "import pickle\n",
    "\n",
    "#\n",
    "import data_processing as data_p"
   ]
  },
  {
   "cell_type": "code",
   "execution_count": 7,
   "metadata": {},
   "outputs": [],
   "source": [
    "IMG_DIR = \"../../data/ssd-images/\"\n",
    "CSV_FILE = \"../../data/image_pairs_filtered.csv\""
   ]
  },
  {
   "cell_type": "code",
   "execution_count": 8,
   "metadata": {},
   "outputs": [
    {
     "name": "stdout",
     "output_type": "stream",
     "text": [
      "(125367, 3)\n",
      "Index(['id_0', 'id_1', 'match'], dtype='object')\n"
     ]
    }
   ],
   "source": [
    "# load_dataset\n",
    "\n",
    "dataset = pd.read_csv(CSV_FILE, sep=';', usecols=['id_0', 'id_1', 'match'])\n",
    "dataset = data_p.filter_existing_rows(dataset, IMG_DIR)\n",
    "dataset = dataset.sample(frac=1)\n",
    "print(dataset.shape)\n",
    "print(dataset.columns)"
   ]
  },
  {
   "cell_type": "code",
   "execution_count": 9,
   "metadata": {},
   "outputs": [
    {
     "name": "stdout",
     "output_type": "stream",
     "text": [
      "61405 63962\n",
      "0.4898019414997567\n"
     ]
    }
   ],
   "source": [
    "dataset_true = dataset[dataset['match'] == True]\n",
    "dataset_false = dataset[dataset['match'] == False]\n",
    "print( len(dataset_true), len(dataset_false))\n",
    "print( len(dataset_true) / (len(dataset_true) + len(dataset_false)))\n",
    "del dataset_true\n",
    "del dataset_false"
   ]
  },
  {
   "cell_type": "code",
   "execution_count": 10,
   "metadata": {
    "scrolled": true
   },
   "outputs": [
    {
     "data": {
      "text/html": [
       "<div>\n",
       "<style scoped>\n",
       "    .dataframe tbody tr th:only-of-type {\n",
       "        vertical-align: middle;\n",
       "    }\n",
       "\n",
       "    .dataframe tbody tr th {\n",
       "        vertical-align: top;\n",
       "    }\n",
       "\n",
       "    .dataframe thead th {\n",
       "        text-align: right;\n",
       "    }\n",
       "</style>\n",
       "<table border=\"1\" class=\"dataframe\">\n",
       "  <thead>\n",
       "    <tr style=\"text-align: right;\">\n",
       "      <th></th>\n",
       "      <th>id_0</th>\n",
       "      <th>id_1</th>\n",
       "      <th>match</th>\n",
       "    </tr>\n",
       "  </thead>\n",
       "  <tbody>\n",
       "    <tr>\n",
       "      <th>35661</th>\n",
       "      <td>16d5415625a7f008b8e8c10010c43f69e9208ccd</td>\n",
       "      <td>62ba339667ef0a6bbc0bc6da945783633b60578b</td>\n",
       "      <td>True</td>\n",
       "    </tr>\n",
       "    <tr>\n",
       "      <th>35661</th>\n",
       "      <td>16d5415625a7f008b8e8c10010c43f69e9208ccd</td>\n",
       "      <td>34324d15e385e79806555cab450df4deebd0b5f2</td>\n",
       "      <td>False</td>\n",
       "    </tr>\n",
       "    <tr>\n",
       "      <th>122883</th>\n",
       "      <td>3733c53d6e09ef465cf5925843bd860ae3633070</td>\n",
       "      <td>acbab4302a11f55488de92d97f84432f568ff8fa</td>\n",
       "      <td>False</td>\n",
       "    </tr>\n",
       "    <tr>\n",
       "      <th>122883</th>\n",
       "      <td>3733c53d6e09ef465cf5925843bd860ae3633070</td>\n",
       "      <td>0cb997ed02ae6f19759edf11fcce767d90a2e11b</td>\n",
       "      <td>True</td>\n",
       "    </tr>\n",
       "    <tr>\n",
       "      <th>118617</th>\n",
       "      <td>549da7c548090ad75d5c163fb6d34fbb4c21feb1</td>\n",
       "      <td>93f4394286ef819640f35c7ed1883d934e5a2440</td>\n",
       "      <td>True</td>\n",
       "    </tr>\n",
       "    <tr>\n",
       "      <th>118617</th>\n",
       "      <td>549da7c548090ad75d5c163fb6d34fbb4c21feb1</td>\n",
       "      <td>00b856471a5e40a5cd5075eda24e1612a62c281f</td>\n",
       "      <td>False</td>\n",
       "    </tr>\n",
       "    <tr>\n",
       "      <th>99205</th>\n",
       "      <td>5f8d5d51dab179c6b719fb02e2d92303db9427e9</td>\n",
       "      <td>d984fac92be25713620a20cddc8d9fb613740712</td>\n",
       "      <td>True</td>\n",
       "    </tr>\n",
       "    <tr>\n",
       "      <th>99205</th>\n",
       "      <td>5f8d5d51dab179c6b719fb02e2d92303db9427e9</td>\n",
       "      <td>d984fac92be25713620a20cddc8d9fb613740712</td>\n",
       "      <td>False</td>\n",
       "    </tr>\n",
       "    <tr>\n",
       "      <th>77324</th>\n",
       "      <td>7bec9cc82890b1c8d99475362550f842e1879223</td>\n",
       "      <td>0cb997ed02ae6f19759edf11fcce767d90a2e11b</td>\n",
       "      <td>False</td>\n",
       "    </tr>\n",
       "    <tr>\n",
       "      <th>77324</th>\n",
       "      <td>7bec9cc82890b1c8d99475362550f842e1879223</td>\n",
       "      <td>17c2523337a8ec056f0cc811a3699d9aa1c1b393</td>\n",
       "      <td>True</td>\n",
       "    </tr>\n",
       "    <tr>\n",
       "      <th>57214</th>\n",
       "      <td>82c9e93712b2575078b0f2b5212e8a36dfea340e</td>\n",
       "      <td>62ba339667ef0a6bbc0bc6da945783633b60578b</td>\n",
       "      <td>False</td>\n",
       "    </tr>\n",
       "    <tr>\n",
       "      <th>57214</th>\n",
       "      <td>82c9e93712b2575078b0f2b5212e8a36dfea340e</td>\n",
       "      <td>4e00173f66a9085b8775d2feddff1b28eb9a25ca</td>\n",
       "      <td>True</td>\n",
       "    </tr>\n",
       "    <tr>\n",
       "      <th>2992</th>\n",
       "      <td>845a9bad7bbffb44c86db0ee2cd9241c3bfae88e</td>\n",
       "      <td>36987606cdd75a2cd984225cf895a9ebc17d6bd5</td>\n",
       "      <td>True</td>\n",
       "    </tr>\n",
       "    <tr>\n",
       "      <th>2992</th>\n",
       "      <td>845a9bad7bbffb44c86db0ee2cd9241c3bfae88e</td>\n",
       "      <td>ad3c6dfa76c0e4419ef44b7d01dfe8269febb017</td>\n",
       "      <td>False</td>\n",
       "    </tr>\n",
       "    <tr>\n",
       "      <th>7047</th>\n",
       "      <td>93fb9344cb8bb7a4c6ad8fc850d07c4d58e3983a</td>\n",
       "      <td>acbab4302a11f55488de92d97f84432f568ff8fa</td>\n",
       "      <td>True</td>\n",
       "    </tr>\n",
       "    <tr>\n",
       "      <th>7047</th>\n",
       "      <td>93fb9344cb8bb7a4c6ad8fc850d07c4d58e3983a</td>\n",
       "      <td>5f92984b700bd6c1cb6080eb99fd1362f5ea7e3f</td>\n",
       "      <td>False</td>\n",
       "    </tr>\n",
       "    <tr>\n",
       "      <th>98216</th>\n",
       "      <td>96df01844e9ba7b9804b0009dd0574b114c82a77</td>\n",
       "      <td>e1f2228ed4f47f7c976a74f210d2c85f1d272096</td>\n",
       "      <td>False</td>\n",
       "    </tr>\n",
       "    <tr>\n",
       "      <th>98216</th>\n",
       "      <td>96df01844e9ba7b9804b0009dd0574b114c82a77</td>\n",
       "      <td>ad3c6dfa76c0e4419ef44b7d01dfe8269febb017</td>\n",
       "      <td>True</td>\n",
       "    </tr>\n",
       "    <tr>\n",
       "      <th>115961</th>\n",
       "      <td>a0aa30596ce3fe8b7a9fc926938a928daf215e0f</td>\n",
       "      <td>4e00173f66a9085b8775d2feddff1b28eb9a25ca</td>\n",
       "      <td>False</td>\n",
       "    </tr>\n",
       "    <tr>\n",
       "      <th>115961</th>\n",
       "      <td>a0aa30596ce3fe8b7a9fc926938a928daf215e0f</td>\n",
       "      <td>5f92984b700bd6c1cb6080eb99fd1362f5ea7e3f</td>\n",
       "      <td>True</td>\n",
       "    </tr>\n",
       "    <tr>\n",
       "      <th>108633</th>\n",
       "      <td>a22e4eeff6e4c6823c6648f331cb0e17413ab0a0</td>\n",
       "      <td>9842ca573c393c7974f12def78d84173b58122a8</td>\n",
       "      <td>False</td>\n",
       "    </tr>\n",
       "    <tr>\n",
       "      <th>108633</th>\n",
       "      <td>a22e4eeff6e4c6823c6648f331cb0e17413ab0a0</td>\n",
       "      <td>3de21d91e3cc55023262932bc4b395ea4299fd6e</td>\n",
       "      <td>True</td>\n",
       "    </tr>\n",
       "    <tr>\n",
       "      <th>77989</th>\n",
       "      <td>ac99b4988f60d4f76509ecafe14bb4ea3717b2a0</td>\n",
       "      <td>36987606cdd75a2cd984225cf895a9ebc17d6bd5</td>\n",
       "      <td>False</td>\n",
       "    </tr>\n",
       "    <tr>\n",
       "      <th>77989</th>\n",
       "      <td>ac99b4988f60d4f76509ecafe14bb4ea3717b2a0</td>\n",
       "      <td>e1f2228ed4f47f7c976a74f210d2c85f1d272096</td>\n",
       "      <td>True</td>\n",
       "    </tr>\n",
       "    <tr>\n",
       "      <th>56836</th>\n",
       "      <td>b1c43ef90d4d2aef2006b66dec63a80ce4ac9028</td>\n",
       "      <td>3de21d91e3cc55023262932bc4b395ea4299fd6e</td>\n",
       "      <td>False</td>\n",
       "    </tr>\n",
       "    <tr>\n",
       "      <th>56836</th>\n",
       "      <td>b1c43ef90d4d2aef2006b66dec63a80ce4ac9028</td>\n",
       "      <td>976a804462279903df065b6c55158f7abc26653c</td>\n",
       "      <td>True</td>\n",
       "    </tr>\n",
       "    <tr>\n",
       "      <th>53732</th>\n",
       "      <td>c4808ec92fe6d1034515bb63c6d879a93b536159</td>\n",
       "      <td>17c2523337a8ec056f0cc811a3699d9aa1c1b393</td>\n",
       "      <td>False</td>\n",
       "    </tr>\n",
       "    <tr>\n",
       "      <th>53732</th>\n",
       "      <td>c4808ec92fe6d1034515bb63c6d879a93b536159</td>\n",
       "      <td>9842ca573c393c7974f12def78d84173b58122a8</td>\n",
       "      <td>True</td>\n",
       "    </tr>\n",
       "    <tr>\n",
       "      <th>45454</th>\n",
       "      <td>c5fc93ace19f42c76ee06af09541f72ecc13f4d6</td>\n",
       "      <td>00b856471a5e40a5cd5075eda24e1612a62c281f</td>\n",
       "      <td>True</td>\n",
       "    </tr>\n",
       "    <tr>\n",
       "      <th>45454</th>\n",
       "      <td>c5fc93ace19f42c76ee06af09541f72ecc13f4d6</td>\n",
       "      <td>976a804462279903df065b6c55158f7abc26653c</td>\n",
       "      <td>False</td>\n",
       "    </tr>\n",
       "    <tr>\n",
       "      <th>123550</th>\n",
       "      <td>dbd1cd6b4bacd6d0e36a9cd3fb11709301f1f46d</td>\n",
       "      <td>93f4394286ef819640f35c7ed1883d934e5a2440</td>\n",
       "      <td>False</td>\n",
       "    </tr>\n",
       "    <tr>\n",
       "      <th>123550</th>\n",
       "      <td>dbd1cd6b4bacd6d0e36a9cd3fb11709301f1f46d</td>\n",
       "      <td>34324d15e385e79806555cab450df4deebd0b5f2</td>\n",
       "      <td>True</td>\n",
       "    </tr>\n",
       "  </tbody>\n",
       "</table>\n",
       "</div>"
      ],
      "text/plain": [
       "                                            id_0  \\\n",
       "35661   16d5415625a7f008b8e8c10010c43f69e9208ccd   \n",
       "35661   16d5415625a7f008b8e8c10010c43f69e9208ccd   \n",
       "122883  3733c53d6e09ef465cf5925843bd860ae3633070   \n",
       "122883  3733c53d6e09ef465cf5925843bd860ae3633070   \n",
       "118617  549da7c548090ad75d5c163fb6d34fbb4c21feb1   \n",
       "118617  549da7c548090ad75d5c163fb6d34fbb4c21feb1   \n",
       "99205   5f8d5d51dab179c6b719fb02e2d92303db9427e9   \n",
       "99205   5f8d5d51dab179c6b719fb02e2d92303db9427e9   \n",
       "77324   7bec9cc82890b1c8d99475362550f842e1879223   \n",
       "77324   7bec9cc82890b1c8d99475362550f842e1879223   \n",
       "57214   82c9e93712b2575078b0f2b5212e8a36dfea340e   \n",
       "57214   82c9e93712b2575078b0f2b5212e8a36dfea340e   \n",
       "2992    845a9bad7bbffb44c86db0ee2cd9241c3bfae88e   \n",
       "2992    845a9bad7bbffb44c86db0ee2cd9241c3bfae88e   \n",
       "7047    93fb9344cb8bb7a4c6ad8fc850d07c4d58e3983a   \n",
       "7047    93fb9344cb8bb7a4c6ad8fc850d07c4d58e3983a   \n",
       "98216   96df01844e9ba7b9804b0009dd0574b114c82a77   \n",
       "98216   96df01844e9ba7b9804b0009dd0574b114c82a77   \n",
       "115961  a0aa30596ce3fe8b7a9fc926938a928daf215e0f   \n",
       "115961  a0aa30596ce3fe8b7a9fc926938a928daf215e0f   \n",
       "108633  a22e4eeff6e4c6823c6648f331cb0e17413ab0a0   \n",
       "108633  a22e4eeff6e4c6823c6648f331cb0e17413ab0a0   \n",
       "77989   ac99b4988f60d4f76509ecafe14bb4ea3717b2a0   \n",
       "77989   ac99b4988f60d4f76509ecafe14bb4ea3717b2a0   \n",
       "56836   b1c43ef90d4d2aef2006b66dec63a80ce4ac9028   \n",
       "56836   b1c43ef90d4d2aef2006b66dec63a80ce4ac9028   \n",
       "53732   c4808ec92fe6d1034515bb63c6d879a93b536159   \n",
       "53732   c4808ec92fe6d1034515bb63c6d879a93b536159   \n",
       "45454   c5fc93ace19f42c76ee06af09541f72ecc13f4d6   \n",
       "45454   c5fc93ace19f42c76ee06af09541f72ecc13f4d6   \n",
       "123550  dbd1cd6b4bacd6d0e36a9cd3fb11709301f1f46d   \n",
       "123550  dbd1cd6b4bacd6d0e36a9cd3fb11709301f1f46d   \n",
       "\n",
       "                                            id_1  match  \n",
       "35661   62ba339667ef0a6bbc0bc6da945783633b60578b   True  \n",
       "35661   34324d15e385e79806555cab450df4deebd0b5f2  False  \n",
       "122883  acbab4302a11f55488de92d97f84432f568ff8fa  False  \n",
       "122883  0cb997ed02ae6f19759edf11fcce767d90a2e11b   True  \n",
       "118617  93f4394286ef819640f35c7ed1883d934e5a2440   True  \n",
       "118617  00b856471a5e40a5cd5075eda24e1612a62c281f  False  \n",
       "99205   d984fac92be25713620a20cddc8d9fb613740712   True  \n",
       "99205   d984fac92be25713620a20cddc8d9fb613740712  False  \n",
       "77324   0cb997ed02ae6f19759edf11fcce767d90a2e11b  False  \n",
       "77324   17c2523337a8ec056f0cc811a3699d9aa1c1b393   True  \n",
       "57214   62ba339667ef0a6bbc0bc6da945783633b60578b  False  \n",
       "57214   4e00173f66a9085b8775d2feddff1b28eb9a25ca   True  \n",
       "2992    36987606cdd75a2cd984225cf895a9ebc17d6bd5   True  \n",
       "2992    ad3c6dfa76c0e4419ef44b7d01dfe8269febb017  False  \n",
       "7047    acbab4302a11f55488de92d97f84432f568ff8fa   True  \n",
       "7047    5f92984b700bd6c1cb6080eb99fd1362f5ea7e3f  False  \n",
       "98216   e1f2228ed4f47f7c976a74f210d2c85f1d272096  False  \n",
       "98216   ad3c6dfa76c0e4419ef44b7d01dfe8269febb017   True  \n",
       "115961  4e00173f66a9085b8775d2feddff1b28eb9a25ca  False  \n",
       "115961  5f92984b700bd6c1cb6080eb99fd1362f5ea7e3f   True  \n",
       "108633  9842ca573c393c7974f12def78d84173b58122a8  False  \n",
       "108633  3de21d91e3cc55023262932bc4b395ea4299fd6e   True  \n",
       "77989   36987606cdd75a2cd984225cf895a9ebc17d6bd5  False  \n",
       "77989   e1f2228ed4f47f7c976a74f210d2c85f1d272096   True  \n",
       "56836   3de21d91e3cc55023262932bc4b395ea4299fd6e  False  \n",
       "56836   976a804462279903df065b6c55158f7abc26653c   True  \n",
       "53732   17c2523337a8ec056f0cc811a3699d9aa1c1b393  False  \n",
       "53732   9842ca573c393c7974f12def78d84173b58122a8   True  \n",
       "45454   00b856471a5e40a5cd5075eda24e1612a62c281f   True  \n",
       "45454   976a804462279903df065b6c55158f7abc26653c  False  \n",
       "123550  93f4394286ef819640f35c7ed1883d934e5a2440  False  \n",
       "123550  34324d15e385e79806555cab450df4deebd0b5f2   True  "
      ]
     },
     "execution_count": 10,
     "metadata": {},
     "output_type": "execute_result"
    }
   ],
   "source": [
    "def batch_flow(data, batch_size=32):\n",
    "    true_data = data[data['match'] == True]\n",
    "    false_data = data[data['match'] == False]\n",
    "    \n",
    "    while True:\n",
    "        yield data_p.generate_batch_fast(true_data, false_data, batch_size)\n",
    "\n",
    "next(batch_flow(dataset, batch_size=32)).sort_values('id_0')"
   ]
  },
  {
   "cell_type": "code",
   "execution_count": 7,
   "metadata": {
    "scrolled": true
   },
   "outputs": [
    {
     "data": {
      "text/plain": [
       "2000"
      ]
     },
     "execution_count": 7,
     "metadata": {},
     "output_type": "execute_result"
    }
   ],
   "source": [
    "# generate trainset\n",
    "\n",
    "train_batches = []\n",
    "train_flow = batch_flow(dataset, batch_size=32)\n",
    "for batch in train_flow:\n",
    "    train_batches.append(batch)\n",
    "    if len(train_batches) >= 2000:\n",
    "        break\n",
    "        \n",
    "len(train_batches)"
   ]
  },
  {
   "cell_type": "code",
   "execution_count": 8,
   "metadata": {
    "scrolled": true
   },
   "outputs": [],
   "source": [
    "pickle.dump(train_batches, open('./batches/fast_test_batches.pkl', 'wb'))"
   ]
  },
  {
   "cell_type": "code",
   "execution_count": 11,
   "metadata": {},
   "outputs": [],
   "source": [
    "big_batch = next(batch_flow(dataset, batch_size=100000))"
   ]
  },
  {
   "cell_type": "code",
   "execution_count": 13,
   "metadata": {},
   "outputs": [],
   "source": [
    "# big_batch_uniq = big_batch.drop_duplicates(subset=['id_0', 'id_1'])\n",
    "from sklearn.model_selection import train_test_split"
   ]
  },
  {
   "cell_type": "code",
   "execution_count": 19,
   "metadata": {},
   "outputs": [],
   "source": [
    "split_data = dataset.sort_values('id_0')\n",
    "X_train, X_test, y_train, y_test = train_test_split(split_data[['id_0', 'id_1']], split_data['match'], test_size=0.33, random_state=42)"
   ]
  },
  {
   "cell_type": "code",
   "execution_count": 21,
   "metadata": {},
   "outputs": [],
   "source": [
    "def chunk_frame(data, chunk_size):\n",
    "    i = 0\n",
    "    while i < len(data):\n",
    "        yield data[i:i+chunk_size]\n",
    "        i = i + chunk_size\n"
   ]
  },
  {
   "cell_type": "code",
   "execution_count": 25,
   "metadata": {},
   "outputs": [],
   "source": [
    "train_batches = list(chunk_frame(X_train.join(y_train), 32))\n",
    "len(train_batches)\n",
    "pickle.dump(train_batches, open('./batches/train_batches.pkl', 'wb'))"
   ]
  },
  {
   "cell_type": "code",
   "execution_count": 26,
   "metadata": {
    "scrolled": true
   },
   "outputs": [
    {
     "name": "stdout",
     "output_type": "stream",
     "text": [
      "41169 42826\n",
      "0.4901363176379546\n"
     ]
    }
   ],
   "source": [
    "train_set = X_train.join(y_train)"
   ]
  },
  {
   "cell_type": "code",
   "execution_count": 17,
   "metadata": {},
   "outputs": [
    {
     "data": {
      "text/plain": [
       "2000"
      ]
     },
     "execution_count": 17,
     "metadata": {},
     "output_type": "execute_result"
    }
   ],
   "source": [
    "def train_flow(data, batch_size=32):\n",
    "    true_data = data[data['match'] == True]\n",
    "    false_data = data[data['match'] == False]\n",
    "    \n",
    "    while True:\n",
    "        yield data_p.generate_batch_fake(true_data, false_data, batch_size)\n",
    "\n",
    "\n",
    "train_batches = []\n",
    "train_flow = train_flow(train_set, batch_size=32)\n",
    "for batch in train_flow:\n",
    "    train_batches.append(batch)\n",
    "    if len(train_batches) >= 2000:\n",
    "        break\n",
    "        \n",
    "len(train_batches)"
   ]
  },
  {
   "cell_type": "code",
   "execution_count": 18,
   "metadata": {},
   "outputs": [],
   "source": [
    "pickle.dump(train_batches, open('./batches/train_batches.pkl', 'wb'))"
   ]
  }
 ],
 "metadata": {
  "kernelspec": {
   "display_name": "Python 3",
   "language": "python",
   "name": "python3"
  },
  "language_info": {
   "codemirror_mode": {
    "name": "ipython",
    "version": 3
   },
   "file_extension": ".py",
   "mimetype": "text/x-python",
   "name": "python",
   "nbconvert_exporter": "python",
   "pygments_lexer": "ipython3",
   "version": "3.5.2"
  }
 },
 "nbformat": 4,
 "nbformat_minor": 2
}
